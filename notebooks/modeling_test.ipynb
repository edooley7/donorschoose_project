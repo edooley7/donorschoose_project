{
 "cells": [
  {
   "cell_type": "code",
   "execution_count": 1,
   "metadata": {
    "collapsed": false
   },
   "outputs": [],
   "source": [
    "import pandas as pd\n",
    "import numpy as np\n",
    "import matplotlib.pyplot as plt\n",
    "import seaborn as sns\n",
    "from patsy import dmatrices\n",
    "pd.options.mode.chained_assignment = None\n",
    "\n",
    "from sklearn import preprocessing\n",
    "\n",
    "from sklearn.metrics import accuracy_score, roc_curve, auc, classification_report, confusion_matrix\n",
    "\n",
    "from sklearn.cross_validation import cross_val_score, train_test_split\n",
    "from sklearn.learning_curve import learning_curve\n",
    "from sklearn.grid_search import GridSearchCV\n",
    "\n",
    "from sklearn.linear_model import LogisticRegression\n",
    "from sklearn.neighbors import KNeighborsClassifier\n",
    "from sklearn.naive_bayes import GaussianNB\n",
    "from sklearn.svm import SVC\n",
    "from sklearn.tree import DecisionTreeClassifier\n",
    "from sklearn.ensemble import RandomForestClassifier\n",
    "from __future__ import division\n",
    "import pprint\n",
    "import pickle\n",
    "from sklearn.metrics import roc_curve, auc, roc_auc_score\n",
    "from sklearn.metrics import confusion_matrix\n",
    "import dateutil\n",
    "from sklearn.metrics import roc_curve, auc\n",
    "%matplotlib inline"
   ]
  },
  {
   "cell_type": "code",
   "execution_count": 4,
   "metadata": {
    "collapsed": false
   },
   "outputs": [],
   "source": [
    "df = pd.DataFrame(pickle.load(open('../data_files/cleaned_data_with_features.pkl', 'rb')))"
   ]
  },
  {
   "cell_type": "code",
   "execution_count": 7,
   "metadata": {
    "collapsed": false
   },
   "outputs": [
    {
     "data": {
      "text/html": [
       "<div>\n",
       "<table border=\"1\" class=\"dataframe\">\n",
       "  <thead>\n",
       "    <tr style=\"text-align: right;\">\n",
       "      <th></th>\n",
       "      <th>_projectid</th>\n",
       "      <th>_teacher_acctid</th>\n",
       "      <th>_schoolid</th>\n",
       "      <th>school_ncesid</th>\n",
       "      <th>school_latitude</th>\n",
       "      <th>school_longitude</th>\n",
       "      <th>school_city</th>\n",
       "      <th>school_state</th>\n",
       "      <th>school_zip</th>\n",
       "      <th>school_metro</th>\n",
       "      <th>...</th>\n",
       "      <th>RESP</th>\n",
       "      <th>month</th>\n",
       "      <th>quarter</th>\n",
       "      <th>year</th>\n",
       "      <th>time_to_expire</th>\n",
       "      <th>amount_optional_support</th>\n",
       "      <th>optional_support</th>\n",
       "      <th>per_optional_support</th>\n",
       "      <th>school_previous_projects</th>\n",
       "      <th>teacher_previous_projects</th>\n",
       "    </tr>\n",
       "  </thead>\n",
       "  <tbody>\n",
       "    <tr>\n",
       "      <th>0</th>\n",
       "      <td>7342bd01a2a7725ce033a179d22e382d</td>\n",
       "      <td>5c43ef5eac0f5857c266baa1ccfa3d3f</td>\n",
       "      <td>9e72d6f2f1e9367b578b6479aa5852b7</td>\n",
       "      <td>3.600097e+11</td>\n",
       "      <td>40.688454</td>\n",
       "      <td>-73.910432</td>\n",
       "      <td>Brooklyn</td>\n",
       "      <td>NY</td>\n",
       "      <td>11207</td>\n",
       "      <td>urban</td>\n",
       "      <td>...</td>\n",
       "      <td>1</td>\n",
       "      <td>9</td>\n",
       "      <td>3</td>\n",
       "      <td>2002</td>\n",
       "      <td>474 days</td>\n",
       "      <td>50.27</td>\n",
       "      <td>1</td>\n",
       "      <td>0.219520</td>\n",
       "      <td>0</td>\n",
       "      <td>0</td>\n",
       "    </tr>\n",
       "    <tr>\n",
       "      <th>1</th>\n",
       "      <td>b56b502d25666e29550d107bf7e17910</td>\n",
       "      <td>57426949b47700ccf62098e1e9b0220c</td>\n",
       "      <td>4a06a328dd87bd29892d73310052f45f</td>\n",
       "      <td>3.600077e+11</td>\n",
       "      <td>40.770233</td>\n",
       "      <td>-73.950760</td>\n",
       "      <td>New York</td>\n",
       "      <td>NY</td>\n",
       "      <td>10075</td>\n",
       "      <td>NaN</td>\n",
       "      <td>...</td>\n",
       "      <td>1</td>\n",
       "      <td>9</td>\n",
       "      <td>3</td>\n",
       "      <td>2002</td>\n",
       "      <td>471 days</td>\n",
       "      <td>27.44</td>\n",
       "      <td>1</td>\n",
       "      <td>0.219520</td>\n",
       "      <td>0</td>\n",
       "      <td>0</td>\n",
       "    </tr>\n",
       "    <tr>\n",
       "      <th>2</th>\n",
       "      <td>3a88a47f97bd0c9b7c6a745bcd831ce3</td>\n",
       "      <td>7a20087fac86232883537cab45c0a6c9</td>\n",
       "      <td>66d08b506d2f3c30dec9e6fdb03cc279</td>\n",
       "      <td>3.600122e+11</td>\n",
       "      <td>40.729763</td>\n",
       "      <td>-73.816925</td>\n",
       "      <td>Flushing</td>\n",
       "      <td>NY</td>\n",
       "      <td>11367</td>\n",
       "      <td>urban</td>\n",
       "      <td>...</td>\n",
       "      <td>1</td>\n",
       "      <td>9</td>\n",
       "      <td>3</td>\n",
       "      <td>2002</td>\n",
       "      <td>470 days</td>\n",
       "      <td>402.80</td>\n",
       "      <td>1</td>\n",
       "      <td>0.219510</td>\n",
       "      <td>0</td>\n",
       "      <td>0</td>\n",
       "    </tr>\n",
       "    <tr>\n",
       "      <th>3</th>\n",
       "      <td>0b8a4f8eb1822ab6dd5cd9ffb918ece3</td>\n",
       "      <td>e5d28482308e2007992ae8b358b31bce</td>\n",
       "      <td>9bc7d4d92193a453669b6e2a56128e87</td>\n",
       "      <td>3.600077e+11</td>\n",
       "      <td>40.701778</td>\n",
       "      <td>-74.011840</td>\n",
       "      <td>New York</td>\n",
       "      <td>NY</td>\n",
       "      <td>10004</td>\n",
       "      <td>urban</td>\n",
       "      <td>...</td>\n",
       "      <td>1</td>\n",
       "      <td>9</td>\n",
       "      <td>3</td>\n",
       "      <td>2002</td>\n",
       "      <td>470 days</td>\n",
       "      <td>247.83</td>\n",
       "      <td>1</td>\n",
       "      <td>0.219513</td>\n",
       "      <td>0</td>\n",
       "      <td>0</td>\n",
       "    </tr>\n",
       "    <tr>\n",
       "      <th>4</th>\n",
       "      <td>45235cb116b3b35cd86d1c3a63961d7d</td>\n",
       "      <td>214d75bd0e6ce3e7085278ddd8f26daa</td>\n",
       "      <td>f7f12dee0009e6f9afa301bcca9d5070</td>\n",
       "      <td>NaN</td>\n",
       "      <td>40.815018</td>\n",
       "      <td>-73.856094</td>\n",
       "      <td>Bronx</td>\n",
       "      <td>NY</td>\n",
       "      <td>10473</td>\n",
       "      <td>urban</td>\n",
       "      <td>...</td>\n",
       "      <td>1</td>\n",
       "      <td>9</td>\n",
       "      <td>3</td>\n",
       "      <td>2002</td>\n",
       "      <td>470 days</td>\n",
       "      <td>18.22</td>\n",
       "      <td>1</td>\n",
       "      <td>0.219518</td>\n",
       "      <td>0</td>\n",
       "      <td>0</td>\n",
       "    </tr>\n",
       "  </tbody>\n",
       "</table>\n",
       "<p>5 rows × 54 columns</p>\n",
       "</div>"
      ],
      "text/plain": [
       "                         _projectid                   _teacher_acctid  \\\n",
       "0  7342bd01a2a7725ce033a179d22e382d  5c43ef5eac0f5857c266baa1ccfa3d3f   \n",
       "1  b56b502d25666e29550d107bf7e17910  57426949b47700ccf62098e1e9b0220c   \n",
       "2  3a88a47f97bd0c9b7c6a745bcd831ce3  7a20087fac86232883537cab45c0a6c9   \n",
       "3  0b8a4f8eb1822ab6dd5cd9ffb918ece3  e5d28482308e2007992ae8b358b31bce   \n",
       "4  45235cb116b3b35cd86d1c3a63961d7d  214d75bd0e6ce3e7085278ddd8f26daa   \n",
       "\n",
       "                          _schoolid  school_ncesid  school_latitude  \\\n",
       "0  9e72d6f2f1e9367b578b6479aa5852b7   3.600097e+11        40.688454   \n",
       "1  4a06a328dd87bd29892d73310052f45f   3.600077e+11        40.770233   \n",
       "2  66d08b506d2f3c30dec9e6fdb03cc279   3.600122e+11        40.729763   \n",
       "3  9bc7d4d92193a453669b6e2a56128e87   3.600077e+11        40.701778   \n",
       "4  f7f12dee0009e6f9afa301bcca9d5070            NaN        40.815018   \n",
       "\n",
       "   school_longitude school_city school_state  school_zip school_metro  \\\n",
       "0        -73.910432    Brooklyn           NY       11207        urban   \n",
       "1        -73.950760    New York           NY       10075          NaN   \n",
       "2        -73.816925    Flushing           NY       11367        urban   \n",
       "3        -74.011840    New York           NY       10004        urban   \n",
       "4        -73.856094       Bronx           NY       10473        urban   \n",
       "\n",
       "             ...             RESP month  quarter  year  time_to_expire  \\\n",
       "0            ...                1     9        3  2002        474 days   \n",
       "1            ...                1     9        3  2002        471 days   \n",
       "2            ...                1     9        3  2002        470 days   \n",
       "3            ...                1     9        3  2002        470 days   \n",
       "4            ...                1     9        3  2002        470 days   \n",
       "\n",
       "   amount_optional_support  optional_support  per_optional_support  \\\n",
       "0                    50.27                 1              0.219520   \n",
       "1                    27.44                 1              0.219520   \n",
       "2                   402.80                 1              0.219510   \n",
       "3                   247.83                 1              0.219513   \n",
       "4                    18.22                 1              0.219518   \n",
       "\n",
       "  school_previous_projects  teacher_previous_projects  \n",
       "0                        0                          0  \n",
       "1                        0                          0  \n",
       "2                        0                          0  \n",
       "3                        0                          0  \n",
       "4                        0                          0  \n",
       "\n",
       "[5 rows x 54 columns]"
      ]
     },
     "execution_count": 7,
     "metadata": {},
     "output_type": "execute_result"
    }
   ],
   "source": [
    "df.head()"
   ]
  },
  {
   "cell_type": "code",
   "execution_count": 8,
   "metadata": {
    "collapsed": false
   },
   "outputs": [],
   "source": [
    "y, X = dmatrices('RESP ~ school_previous_projects + teacher_previous_projects+ school_state+school_charter+school_magnet+ school_year_round+ school_nlns+ school_kipp+ school_charter_ready_promise+ teacher_prefix+teacher_teach_for_america+teacher_ny_teaching_fellow+primary_focus_subject+primary_focus_area+resource_type+poverty_level+grade_level+total_price_including_optional_support+students_reached+optional_support+quarter', data=df, return_type='dataframe')\n",
    "\n",
    "y = np.ravel(y)"
   ]
  },
  {
   "cell_type": "code",
   "execution_count": 10,
   "metadata": {
    "collapsed": false
   },
   "outputs": [],
   "source": [
    "x_train, x_test, y_train, y_test = train_test_split(\n",
    "    X, y, test_size=0.25, random_state=7)\n",
    "\n",
    "std_scale = preprocessing.StandardScaler().fit(x_train)\n",
    "x_train = std_scale.transform(x_train)\n",
    "x_test = std_scale.transform(x_test)"
   ]
  },
  {
   "cell_type": "code",
   "execution_count": 4,
   "metadata": {
    "collapsed": true
   },
   "outputs": [],
   "source": [
    "y, X = dmatrices(\n",
    "    'RESP ~ primary_focus_area + primary_focus_subject + np.log(total_price_including_optional_support + np.sqrt(students_reached))',\n",
    "    data=df, return_type='dataframe')\n",
    "y = np.ravel(y)\n",
    "\n",
    "std_scale = preprocessing.StandardScaler().fit(X)\n",
    "X = std_scale.transform(X)\n",
    "\n",
    "x_train, x_test, y_train, y_test = train_test_split(\n",
    "    X, y, test_size=0.25, random_state=7)"
   ]
  },
  {
   "cell_type": "code",
   "execution_count": 12,
   "metadata": {
    "collapsed": false
   },
   "outputs": [
    {
     "data": {
      "image/png": "[encoded data removed]",
      "text/plain": [
       "<matplotlib.figure.Figure at 0x10a474450>"
      ]
     },
     "metadata": {},
     "output_type": "display_data"
    }
   ],
   "source": [
    "def curves(name, classifier):\n",
    "    probas_ = classifier.fit(x_train, y_train).predict_proba(x_test)\n",
    "    fpr, tpr, thresholds = roc_curve(y_test, probas_[:, 1])\n",
    "    roc_auc = auc(fpr, tpr)\n",
    "    plt.plot(fpr, tpr, label = \"%s area under curve = %0.2f\" \n",
    "             % (name, roc_auc_score(y_test, probas_[:, 1])))\n",
    "    plt.legend(loc = \"best\")\n",
    "    plt.title(\"ROC curves\")\n",
    "    \n",
    "#curves(\"KNN\", KNeighborsClassifier())\n",
    "curves(\"Logistic Regression\", LogisticRegression())\n",
    "curves(\"Gaussian Naive Bayes\", GaussianNB())\n",
    "#curves(\"SVM Classifier\", SVC(probability = True))\n",
    "curves(\"Decision Tree\", DecisionTreeClassifier())\n",
    "curves(\"Random Forest\", RandomForestClassifier())"
   ]
  },
  {
   "cell_type": "code",
   "execution_count": null,
   "metadata": {
    "collapsed": true
   },
   "outputs": [],
   "source": [
    "def test_model(name, main_model):\n",
    "    model = main_model\n",
    "    model.fit(x_train, y_train)\n",
    "    y_pred = model.predict(x_test)\n",
    "    print name, \"test accuracy score:\", accuracy_score(y_test, model.predict(x_test))\n",
    "    \n",
    "test_model(\"KNN\", KNeighborsClassifier())\n",
    "test_model(\"Logistic Regression\", LogisticRegression())\n",
    "test_model(\"Gaussian Naive Bayes\", GaussianNB())\n",
    "test_model(\"SVM Classifier\", SVC())\n",
    "test_model(\"Decision Tree\", DecisionTreeClassifier())\n",
    "test_model(\"Random Forest\", RandomForestClassifier())"
   ]
  },
  {
   "cell_type": "code",
   "execution_count": null,
   "metadata": {
    "collapsed": false
   },
   "outputs": [],
   "source": [
    "names, accs = [], []\n",
    "for algorithm in (LogisticRegression, \n",
    "                 KNeighborsClassifier, \n",
    "                 GaussianNB,\n",
    "                 DecisionTreeClassifier, \n",
    "                 RandomForestClassifier):\n",
    "    accuracy = np.mean(cross_val_score(algorithm(), X, y, cv = 2))\n",
    "    print '%-30s %0.4f' % (algorithm.__name__, accuracy)\n",
    "    names.append(algorithm.__name__)\n",
    "    accs.append(accuracy)"
   ]
  },
  {
   "cell_type": "code",
   "execution_count": 1,
   "metadata": {
    "collapsed": false
   },
   "outputs": [
    {
     "ename": "NameError",
     "evalue": "name 'RandomForestClassifier' is not defined",
     "output_type": "error",
     "traceback": [
      "\u001b[0;31m---------------------------------------------------------------------------\u001b[0m",
      "\u001b[0;31mNameError\u001b[0m                                 Traceback (most recent call last)",
      "\u001b[0;32m<ipython-input-1-4befc7435cab>\u001b[0m in \u001b[0;36m<module>\u001b[0;34m()\u001b[0m\n\u001b[0;32m----> 1\u001b[0;31m \u001b[0mmodel\u001b[0m \u001b[0;34m=\u001b[0m \u001b[0mRandomForestClassifier\u001b[0m\u001b[0;34m(\u001b[0m\u001b[0;34m)\u001b[0m\u001b[0;34m\u001b[0m\u001b[0m\n\u001b[0m\u001b[1;32m      2\u001b[0m \u001b[0mmodel\u001b[0m\u001b[0;34m.\u001b[0m\u001b[0mfit\u001b[0m\u001b[0;34m(\u001b[0m\u001b[0mx_train\u001b[0m\u001b[0;34m,\u001b[0m \u001b[0my_train\u001b[0m\u001b[0;34m)\u001b[0m\u001b[0;34m\u001b[0m\u001b[0m\n\u001b[1;32m      3\u001b[0m \u001b[0mimportances\u001b[0m \u001b[0;34m=\u001b[0m \u001b[0mmodel\u001b[0m\u001b[0;34m.\u001b[0m\u001b[0mfeature_importances_\u001b[0m\u001b[0;34m\u001b[0m\u001b[0m\n\u001b[1;32m      4\u001b[0m std = np.std([tree.feature_importances_ for tree in model.estimators_],\n\u001b[1;32m      5\u001b[0m              axis=0)\n",
      "\u001b[0;31mNameError\u001b[0m: name 'RandomForestClassifier' is not defined"
     ]
    }
   ],
   "source": [
    "model = RandomForestClassifier()\n",
    "model.fit(x_train, y_train)\n",
    "importances = model.feature_importances_\n",
    "std = np.std([tree.feature_importances_ for tree in model.estimators_],\n",
    "             axis=0)\n",
    "indices = np.argsort(importances)[::-1]\n",
    "\n",
    "plt.figure(figsize = (25,10))\n",
    "plt.title(\"Feature importances\")\n",
    "plt.bar(range(10), importances[indices],\n",
    "       color=\"r\", yerr=std[indices], align=\"center\")\n",
    "plt.xticks(range(10), indices)\n",
    "plt.xlim([-1, 10])\n",
    "plt.show()"
   ]
  },
  {
   "cell_type": "code",
   "execution_count": null,
   "metadata": {
    "collapsed": true
   },
   "outputs": [],
   "source": [
    "y, X = dmatrices('RESP ~ school_state+school_charter+school_magnet+ school_year_round+ school_nlns+ school_kipp+ school_charter_ready_promise+ teacher_prefix+teacher_teach_for_america+teacher_ny_teaching_fellow+primary_focus_subject+primary_focus_area+resource_type+poverty_level+grade_level+total_price_including_optional_support+students_reached+optional_support+quarter+teacher_previous_success+school_previous_success', data=df2, return_type='dataframe')\n",
    "\n",
    "y = np.ravel(y)\n",
    "\n",
    "x_train, x_test, y_train, y_test = train_test_split(\n",
    "    X, y, test_size=0.25, random_state=7)\n",
    "\n",
    "scale = preprocessing.MinMaxScaler().fit(X)\n",
    "x_train = scale.transform(x_train)\n",
    "x_test = scale.transform(x_test)"
   ]
  },
  {
   "cell_type": "code",
   "execution_count": null,
   "metadata": {
    "collapsed": true
   },
   "outputs": [],
   "source": [
    "def always_complete(x):\n",
    "    return [1] * len(x)\n",
    "y_pred = always_complete(X)\n",
    "\n",
    "print \"Baseline = %0.4f\" % accuracy_score(y, y_pred) "
   ]
  },
  {
   "cell_type": "code",
   "execution_count": null,
   "metadata": {
    "collapsed": true
   },
   "outputs": [],
   "source": [
    "model = LogisticRegression(penalty='l1', C=11)\n",
    "model.fit(x_train, y_train)"
   ]
  },
  {
   "cell_type": "code",
   "execution_count": null,
   "metadata": {
    "collapsed": true
   },
   "outputs": [],
   "source": [
    "coefs = pd.DataFrame(zip(X.columns, np.transpose(model.coef_)))\n",
    "coefs.sort([1])"
   ]
  },
  {
   "cell_type": "code",
   "execution_count": null,
   "metadata": {
    "collapsed": true
   },
   "outputs": [],
   "source": [
    "\"\"\"model = LogisticRegression()\n",
    "model.fit(x_train, y_train)\n",
    "accuracy = accuracy_score(y_test, model.predict(x_test))\n",
    "print 'Logistic Regression (L2 penalty) accuracy: %.3f' % accuracy\n",
    "\"\"\"\n",
    "# L1 and L2 are just two different forms of regularization. The form of\n",
    "# what is added to the cost funtion is slightly different. L2 is default,\n",
    "# Let's try L1 here, too. Different problems work better with different\n",
    "# penalty forms.\n",
    "\"\"\"model = LogisticRegression(penalty='l1')\n",
    "model.fit(x_train, y_train)\n",
    "accuracy = accuracy_score(y_test, model.predict(x_test))\n",
    "print 'Logistic Regression (L1 penalty) accuracy: %.3f' % accuracy\"\"\"\n",
    "\n",
    "# Ok, let's also check different C values. C is just like alpha in Ridge Regression,\n",
    "# It let's us fine tune how much regularization (how much shrinking) we will do on\n",
    "# coeefficients. Default C is 1.0. Small C means more shrinking, tends to underfit,\n",
    "# Large C means less shrinking, tends to overfit.\n",
    "for C in np.linspace(0.05,100,10):\n",
    "    model = LogisticRegression(penalty='l1', C=C)\n",
    "    model.fit(x_train, y_train)\n",
    "    accuracy = accuracy_score(y_test, model.predict(x_test))\n",
    "    print 'Logistic Regression (L1 penalty, C=%.2f) accuracy: %.3f' % (C,accuracy)"
   ]
  },
  {
   "cell_type": "code",
   "execution_count": null,
   "metadata": {
    "collapsed": true
   },
   "outputs": [],
   "source": [
    "coefs = pd.DataFrame(zip(X.columns, np.transpose(model.coef_)))\n",
    "coefs"
   ]
  },
  {
   "cell_type": "code",
   "execution_count": null,
   "metadata": {
    "collapsed": true
   },
   "outputs": [],
   "source": [
    "names, accs = [], []\n",
    "for algorithm in (RandomForestClassifier,\n",
    "                  DecisionTreeClassifier,\n",
    "                  ExtraTreesClassifier,\n",
    "                  LogisticRegression, \n",
    "                  GaussianNB,\n",
    "                  KNeighborsClassifier, \n",
    "                  SVC):\n",
    "    accuracy = np.mean(cross_val_score(algorithm(), X, y, cv = 10))\n",
    "    print '%-30s %0.4f' % (algorithm.__name__, accuracy)\n",
    "    names.append(algorithm.__name__)\n",
    "    accs.append(accuracy)"
   ]
  },
  {
   "cell_type": "code",
   "execution_count": null,
   "metadata": {
    "collapsed": true
   },
   "outputs": [],
   "source": [
    "def test_model(name, main_model):\n",
    "    model = main_model\n",
    "    model.fit(x_train, y_train)\n",
    "    precision = np.mean(cross_val_score(main_model, X, y.ravel(), scoring = 'precision'))\n",
    "    recall = np.mean(cross_val_score(main_model, X, y.ravel(), scoring = 'recall'))\n",
    "    f1 = np.mean(cross_val_score(main_model, X, y.ravel(), scoring = 'f1'))\n",
    "    probas_ = main_model.fit(x_train, y_train).predict_proba(x_test)\n",
    "    print name, \"test accuracy score:\", accuracy_score(y_test, model.predict(x_test))\n",
    "    print name, \"precision\", precision\n",
    "    print name, \"recall\", recall\n",
    "    print name, \"f1\", f1\n",
    "    print name, \"confusion matrix\", confusion_matrix(y_test, model.predict(x_test))"
   ]
  },
  {
   "cell_type": "code",
   "execution_count": null,
   "metadata": {
    "collapsed": true
   },
   "outputs": [],
   "source": []
  }
 ],
 "metadata": {
  "kernelspec": {
   "display_name": "Python 2",
   "language": "python",
   "name": "python2"
  },
  "language_info": {
   "codemirror_mode": {
    "name": "ipython",
    "version": 2
   },
   "file_extension": ".py",
   "mimetype": "text/x-python",
   "name": "python",
   "nbconvert_exporter": "python",
   "pygments_lexer": "ipython2",
   "version": "2.7.10"
  }
 },
 "nbformat": 4,
 "nbformat_minor": 0
}
