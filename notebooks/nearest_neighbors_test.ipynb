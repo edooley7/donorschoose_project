{
 "cells": [
  {
   "cell_type": "code",
   "execution_count": 1,
   "metadata": {
    "collapsed": true
   },
   "outputs": [],
   "source": [
    "from __future__ import division\n",
    "import pandas as pd\n",
    "import numpy as np\n",
    "from patsy import dmatrices\n",
    "pd.options.mode.chained_assignment = None\n",
    "from sklearn.metrics import confusion_matrix\n",
    "from sklearn import preprocessing\n",
    "\n",
    "from sklearn.metrics import accuracy_score\n",
    "from sklearn.metrics import roc_curve, auc\n",
    "\n",
    "from sklearn.cross_validation import cross_val_score, train_test_split\n",
    "\n",
    "from sklearn.linear_model import LogisticRegression\n",
    "from sklearn.neighbors import KNeighborsClassifier, NearestNeighbors\n",
    "from sklearn.ensemble import GradientBoostingClassifier, AdaBoostClassifier\n",
    "from sklearn.naive_bayes import GaussianNB\n",
    "from sklearn.naive_bayes import MultinomialNB\n",
    "from sklearn.svm import SVC\n",
    "from sklearn.tree import DecisionTreeClassifier\n",
    "from sklearn.ensemble import RandomForestClassifier\n",
    "import pickle"
   ]
  },
  {
   "cell_type": "code",
   "execution_count": 3,
   "metadata": {
    "collapsed": false
   },
   "outputs": [],
   "source": [
    "df = pd.DataFrame(pickle.load(open('../data_files/clean_recent_data.pkl', 'rb')))\n"
   ]
  },
  {
   "cell_type": "code",
   "execution_count": 4,
   "metadata": {
    "collapsed": false
   },
   "outputs": [
    {
     "data": {
      "text/plain": [
       "['_projectid',\n",
       " '_teacher_acctid',\n",
       " '_schoolid',\n",
       " 'school_ncesid',\n",
       " 'school_latitude',\n",
       " 'school_longitude',\n",
       " 'school_city',\n",
       " 'school_state',\n",
       " 'school_zip',\n",
       " 'school_metro',\n",
       " 'school_district',\n",
       " 'school_county',\n",
       " 'school_charter',\n",
       " 'school_magnet',\n",
       " 'school_year_round',\n",
       " 'school_nlns',\n",
       " 'school_kipp',\n",
       " 'school_charter_ready_promise',\n",
       " 'teacher_prefix',\n",
       " 'teacher_teach_for_america',\n",
       " 'teacher_ny_teaching_fellow',\n",
       " 'primary_focus_subject',\n",
       " 'primary_focus_area',\n",
       " 'secondary_focus_subject',\n",
       " 'secondary_focus_area',\n",
       " 'resource_type',\n",
       " 'poverty_level',\n",
       " 'grade_level',\n",
       " 'vendor_shipping_charges',\n",
       " 'sales_tax',\n",
       " 'payment_processing_charges',\n",
       " 'fulfillment_labor_materials',\n",
       " 'total_price_excluding_optional_support',\n",
       " 'total_price_including_optional_support',\n",
       " 'students_reached',\n",
       " 'total_donations',\n",
       " 'num_donors',\n",
       " 'eligible_double_your_impact_match',\n",
       " 'eligible_almost_home_match',\n",
       " 'funding_status',\n",
       " 'date_posted',\n",
       " 'date_completed',\n",
       " 'date_thank_you_packet_mailed',\n",
       " 'date_expiration',\n",
       " 'RESP',\n",
       " 'month',\n",
       " 'quarter',\n",
       " 'year',\n",
       " 'time_to_expire',\n",
       " 'amount_optional_support',\n",
       " 'optional_support',\n",
       " 'per_optional_support',\n",
       " 'school_previous_projects',\n",
       " 'teacher_previous_projects']"
      ]
     },
     "execution_count": 4,
     "metadata": {},
     "output_type": "execute_result"
    }
   ],
   "source": [
    "df.columns.values.tolist()\n"
   ]
  },
  {
   "cell_type": "code",
   "execution_count": 5,
   "metadata": {
    "collapsed": true
   },
   "outputs": [],
   "source": [
    "df2 = df[[\n",
    " 'school_charter',\n",
    " 'school_magnet',\n",
    " 'school_year_round',\n",
    " 'school_nlns',\n",
    " 'school_kipp',\n",
    " 'school_charter_ready_promise',\n",
    " 'teacher_prefix',\n",
    " 'teacher_teach_for_america',\n",
    " 'teacher_ny_teaching_fellow',\n",
    " 'primary_focus_subject',\n",
    " 'primary_focus_area',\n",
    " 'resource_type',\n",
    " 'poverty_level',\n",
    " 'grade_level',\n",
    " 'total_price_excluding_optional_support',\n",
    " 'total_price_including_optional_support',\n",
    " 'students_reached',\n",
    " 'month',\n",
    " 'quarter',\n",
    " 'year',\n",
    " 'optional_support',\n",
    " 'school_previous_projects',\n",
    " 'teacher_previous_projects']]"
   ]
  },
  {
   "cell_type": "code",
   "execution_count": 9,
   "metadata": {
    "collapsed": true
   },
   "outputs": [],
   "source": [
    "model = df[['teacher_previous_projects',  'school_previous_projects',  'primary_focus_area',  'primary_focus_subject',  'total_price_including_optional_support',  'students_reached', 'quarter', 'grade_level', 'resource_type']]"
   ]
  },
  {
   "cell_type": "code",
   "execution_count": 15,
   "metadata": {
    "collapsed": false
   },
   "outputs": [],
   "source": [
    "dummied_model = pd.get_dummies(model, dummy_na=True)"
   ]
  },
  {
   "cell_type": "code",
   "execution_count": 18,
   "metadata": {
    "collapsed": false
   },
   "outputs": [
    {
     "data": {
      "text/plain": [
       "['teacher_previous_projects',\n",
       " 'school_previous_projects',\n",
       " 'total_price_including_optional_support',\n",
       " 'students_reached',\n",
       " 'quarter',\n",
       " 'primary_focus_area_Applied Learning',\n",
       " 'primary_focus_area_Health & Sports',\n",
       " 'primary_focus_area_History & Civics',\n",
       " 'primary_focus_area_Literacy & Language',\n",
       " 'primary_focus_area_Math & Science',\n",
       " 'primary_focus_area_Music & The Arts',\n",
       " 'primary_focus_area_Special Needs',\n",
       " 'primary_focus_area_nan',\n",
       " 'primary_focus_subject_Applied Sciences',\n",
       " 'primary_focus_subject_Character Education',\n",
       " 'primary_focus_subject_Civics & Government',\n",
       " 'primary_focus_subject_College & Career Prep',\n",
       " 'primary_focus_subject_Community Service',\n",
       " 'primary_focus_subject_ESL',\n",
       " 'primary_focus_subject_Early Development',\n",
       " 'primary_focus_subject_Economics',\n",
       " 'primary_focus_subject_Environmental Science',\n",
       " 'primary_focus_subject_Extracurricular',\n",
       " 'primary_focus_subject_Financial Literacy',\n",
       " 'primary_focus_subject_Foreign Languages',\n",
       " 'primary_focus_subject_Gym & Fitness',\n",
       " 'primary_focus_subject_Health & Life Science',\n",
       " 'primary_focus_subject_Health & Wellness',\n",
       " 'primary_focus_subject_History & Geography',\n",
       " 'primary_focus_subject_Literacy',\n",
       " 'primary_focus_subject_Literature & Writing',\n",
       " 'primary_focus_subject_Mathematics',\n",
       " 'primary_focus_subject_Music',\n",
       " 'primary_focus_subject_Nutrition',\n",
       " 'primary_focus_subject_Other',\n",
       " 'primary_focus_subject_Parent Involvement',\n",
       " 'primary_focus_subject_Performing Arts',\n",
       " 'primary_focus_subject_Social Sciences',\n",
       " 'primary_focus_subject_Special Needs',\n",
       " 'primary_focus_subject_Team Sports',\n",
       " 'primary_focus_subject_Visual Arts',\n",
       " 'primary_focus_subject_nan',\n",
       " 'grade_level_Grades 3-5',\n",
       " 'grade_level_Grades 6-8',\n",
       " 'grade_level_Grades 9-12',\n",
       " 'grade_level_Grades PreK-2',\n",
       " 'grade_level_nan',\n",
       " 'resource_type_Books',\n",
       " 'resource_type_Other',\n",
       " 'resource_type_Supplies',\n",
       " 'resource_type_Technology',\n",
       " 'resource_type_Trips',\n",
       " 'resource_type_Visitors',\n",
       " 'resource_type_nan']"
      ]
     },
     "execution_count": 18,
     "metadata": {},
     "output_type": "execute_result"
    }
   ],
   "source": [
    "dummied_model.columns.values.tolist()"
   ]
  },
  {
   "cell_type": "code",
   "execution_count": null,
   "metadata": {
    "collapsed": false
   },
   "outputs": [],
   "source": []
  },
  {
   "cell_type": "code",
   "execution_count": null,
   "metadata": {
    "collapsed": true
   },
   "outputs": [],
   "source": []
  }
 ],
 "metadata": {
  "kernelspec": {
   "display_name": "Python 2",
   "language": "python",
   "name": "python2"
  },
  "language_info": {
   "codemirror_mode": {
    "name": "ipython",
    "version": 2
   },
   "file_extension": ".py",
   "mimetype": "text/x-python",
   "name": "python",
   "nbconvert_exporter": "python",
   "pygments_lexer": "ipython2",
   "version": "2.7.10"
  }
 },
 "nbformat": 4,
 "nbformat_minor": 0
}
