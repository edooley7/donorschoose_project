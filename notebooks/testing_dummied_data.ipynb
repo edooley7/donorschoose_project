{
 "cells": [
  {
   "cell_type": "code",
   "execution_count": 72,
   "metadata": {
    "collapsed": true
   },
   "outputs": [],
   "source": [
    "import flask\n",
    "import numpy as np\n",
    "import pandas as pd\n",
    "import pickle\n",
    "from sklearn.tree import DecisionTreeClassifier"
   ]
  },
  {
   "cell_type": "code",
   "execution_count": 73,
   "metadata": {
    "collapsed": false
   },
   "outputs": [],
   "source": [
    "df = pd.DataFrame(pickle.load(open('../prediction_app/static/dummied_recent_data.pkl', 'rb')))"
   ]
  },
  {
   "cell_type": "code",
   "execution_count": 74,
   "metadata": {
    "collapsed": true
   },
   "outputs": [],
   "source": [
    "X = df[[\n",
    " 'school_previous_projects',\n",
    " 'teacher_previous_projects',\n",
    " 'month',\n",
    " 'log_price_including',\n",
    " 'sqrt_students_reached',\n",
    " 'price_per_student',\n",
    " 'total_state_donors',\n",
    " 'total_state_projects',\n",
    " 'state_avg_donors',\n",
    " 'primary_focus_subject_Applied Sciences',\n",
    " 'primary_focus_subject_Character Education',\n",
    " 'primary_focus_subject_Civics & Government',\n",
    " 'primary_focus_subject_College & Career Prep',\n",
    " 'primary_focus_subject_Community Service',\n",
    " 'primary_focus_subject_ESL',\n",
    " 'primary_focus_subject_Early Development',\n",
    " 'primary_focus_subject_Economics',\n",
    " 'primary_focus_subject_Environmental Science',\n",
    " 'primary_focus_subject_Extracurricular',\n",
    " 'primary_focus_subject_Financial Literacy',\n",
    " 'primary_focus_subject_Foreign Languages',\n",
    " 'primary_focus_subject_Gym & Fitness',\n",
    " 'primary_focus_subject_Health & Life Science',\n",
    " 'primary_focus_subject_Health & Wellness',\n",
    " 'primary_focus_subject_History & Geography',\n",
    " 'primary_focus_subject_Literacy',\n",
    " 'primary_focus_subject_Literature & Writing',\n",
    " 'primary_focus_subject_Mathematics',\n",
    " 'primary_focus_subject_Music',\n",
    " 'primary_focus_subject_Nutrition',\n",
    " 'primary_focus_subject_Other',\n",
    " 'primary_focus_subject_Parent Involvement',\n",
    " 'primary_focus_subject_Performing Arts',\n",
    " 'primary_focus_subject_Social Sciences',\n",
    " 'primary_focus_subject_Special Needs',\n",
    " 'primary_focus_subject_Team Sports',\n",
    " 'primary_focus_subject_Visual Arts',\n",
    " 'poverty_level_high poverty',\n",
    " 'poverty_level_highest poverty',\n",
    " 'poverty_level_low poverty',\n",
    " 'poverty_level_moderate poverty',\n",
    " 'grade_level_Grades 3-5',\n",
    " 'grade_level_Grades 6-8',\n",
    " 'grade_level_Grades 9-12',\n",
    " 'grade_level_Grades PreK-2',\n",
    " 'school_metro_rural',\n",
    " 'school_metro_suburban',\n",
    " 'school_metro_urban',\n",
    " 'resource_type_Books',\n",
    " 'resource_type_Other',\n",
    " 'resource_type_Supplies',\n",
    " 'resource_type_Technology',\n",
    " 'resource_type_Trips',\n",
    " 'resource_type_Visitors']]\n",
    "Y = df[['RESP']]\n",
    "Y = np.ravel(Y)"
   ]
  },
  {
   "cell_type": "code",
   "execution_count": 78,
   "metadata": {
    "collapsed": false
   },
   "outputs": [
    {
     "name": "stdout",
     "output_type": "stream",
     "text": [
      "(205022,)\n"
     ]
    }
   ],
   "source": [
    "print Y.shape"
   ]
  },
  {
   "cell_type": "code",
   "execution_count": 33,
   "metadata": {
    "collapsed": false
   },
   "outputs": [
    {
     "data": {
      "text/plain": [
       "[[5.270380747855014,\n",
       "  2.23606797749979,\n",
       "  38.898,\n",
       "  334846.0,\n",
       "  85457.0,\n",
       "  3.918298091437799,\n",
       "  0.0,\n",
       "  0.0,\n",
       "  0.0,\n",
       "  0.0,\n",
       "  0.0,\n",
       "  0.0,\n",
       "  0.0,\n",
       "  0.0,\n",
       "  0.0,\n",
       "  0.0,\n",
       "  0.0,\n",
       "  0.0,\n",
       "  0.0,\n",
       "  0.0,\n",
       "  0.0,\n",
       "  0.0,\n",
       "  0.0,\n",
       "  0.0,\n",
       "  0.0,\n",
       "  0.0,\n",
       "  0.0,\n",
       "  0.0,\n",
       "  0.0,\n",
       "  0.0,\n",
       "  0.0,\n",
       "  0.0,\n",
       "  0.0,\n",
       "  1.0,\n",
       "  0.0,\n",
       "  1.0,\n",
       "  0.0,\n",
       "  0.0,\n",
       "  0.0,\n",
       "  1.0,\n",
       "  0.0,\n",
       "  0.0,\n",
       "  0.0,\n",
       "  0.0,\n",
       "  1.0,\n",
       "  22.0,\n",
       "  1.0,\n",
       "  0.0,\n",
       "  0.0,\n",
       "  1.0,\n",
       "  0.0,\n",
       "  0.0,\n",
       "  0.0]]"
      ]
     },
     "execution_count": 33,
     "metadata": {},
     "output_type": "execute_result"
    }
   ],
   "source": [
    "x_df = X.head(1)\n",
    "x_list = x_df.values.tolist()\n",
    "x_list"
   ]
  },
  {
   "cell_type": "code",
   "execution_count": 34,
   "metadata": {
    "collapsed": false
   },
   "outputs": [],
   "source": [
    "x = np.matrix(x_list)"
   ]
  },
  {
   "cell_type": "code",
   "execution_count": 48,
   "metadata": {
    "collapsed": true
   },
   "outputs": [],
   "source": [
    "PREDICTOR = DecisionTreeClassifier(max_depth = 4, class_weight = \"auto\" ).fit(X, Y)"
   ]
  },
  {
   "cell_type": "code",
   "execution_count": 68,
   "metadata": {
    "collapsed": true
   },
   "outputs": [],
   "source": [
    "test_x_list = [6.777,44,38.898,334846.0,85457.0,3.918298091437799,0.0,0.0,0.0,0.0,0.0,0.0,0.0,0.0,0.0,0.0,0.0,0.0,0.0,0.0,0.0,0.0,0.0,0.0,0.0,0.0,0.0,0.0,0.0,0.0,0.0,0.0,0.0,1.0,0.0,1.0,0.0,0.0,0.0,1.0,0.0,0.0,0.0,0.0,1.0,22.0,1.0,0.0,0.0,1.0,0.0,0.0,0.0]   "
   ]
  },
  {
   "cell_type": "code",
   "execution_count": 69,
   "metadata": {
    "collapsed": true
   },
   "outputs": [],
   "source": [
    "test_x = np.matrix(test_x_list)"
   ]
  },
  {
   "cell_type": "code",
   "execution_count": 70,
   "metadata": {
    "collapsed": false
   },
   "outputs": [],
   "source": [
    "score = PREDICTOR.predict_proba(test_x)"
   ]
  },
  {
   "cell_type": "code",
   "execution_count": 71,
   "metadata": {
    "collapsed": false
   },
   "outputs": [
    {
     "data": {
      "text/plain": [
       "0.47636087846869163"
      ]
     },
     "execution_count": 71,
     "metadata": {},
     "output_type": "execute_result"
    }
   ],
   "source": [
    "score[0][1]"
   ]
  },
  {
   "cell_type": "code",
   "execution_count": 40,
   "metadata": {
    "collapsed": false
   },
   "outputs": [
    {
     "data": {
      "text/plain": [
       "110076.19"
      ]
     },
     "execution_count": 40,
     "metadata": {},
     "output_type": "execute_result"
    }
   ],
   "source": [
    "df.total_price_including_optional_support.max()"
   ]
  },
  {
   "cell_type": "code",
   "execution_count": 43,
   "metadata": {
    "collapsed": false
   },
   "outputs": [
    {
     "data": {
      "text/plain": [
       "1401.0"
      ]
     },
     "execution_count": 43,
     "metadata": {},
     "output_type": "execute_result"
    }
   ],
   "source": [
    "df.students_reached.max()"
   ]
  },
  {
   "cell_type": "code",
   "execution_count": 79,
   "metadata": {
    "collapsed": false
   },
   "outputs": [
    {
     "ename": "SyntaxError",
     "evalue": "invalid syntax (<ipython-input-79-59f5c627f8c3>, line 1)",
     "output_type": "error",
     "traceback": [
      "\u001b[0;36m  File \u001b[0;32m\"<ipython-input-79-59f5c627f8c3>\"\u001b[0;36m, line \u001b[0;32m1\u001b[0m\n\u001b[0;31m    [[  1.00000000e+00   1.00000000e+00   1.00000000e+00   7.23482632e+00\u001b[0m\n\u001b[0m                                      ^\u001b[0m\n\u001b[0;31mSyntaxError\u001b[0m\u001b[0;31m:\u001b[0m invalid syntax\n"
     ]
    }
   ],
   "source": [
    "[[  1,   1.00000000e+00   1.00000000e+00   7.23482632e+00\n",
    "    9.74679434e+00   1.26947368e+01   3.34846000e+05   8.54570000e+04\n",
    "    3.91829809e+00   1.00000000e+00   0.00000000e+00   0.00000000e+00\n",
    "    0.00000000e+00   0.00000000e+00   0.00000000e+00   0.00000000e+00\n",
    "    0.00000000e+00   0.00000000e+00   0.00000000e+00   0.00000000e+00\n",
    "    0.00000000e+00   0.00000000e+00   0.00000000e+00   0.00000000e+00\n",
    "    0.00000000e+00   0.00000000e+00   0.00000000e+00   0.00000000e+00\n",
    "    0.00000000e+00   0.00000000e+00   0.00000000e+00   0.00000000e+00\n",
    "    0.00000000e+00   0.00000000e+00   0.00000000e+00   0.00000000e+00\n",
    "    0.00000000e+00   1.00000000e+00   0.00000000e+00   0.00000000e+00\n",
    "    0.00000000e+00   0.00000000e+00   0.00000000e+00   1.00000000e+00\n",
    "    0.00000000e+00   0.00000000e+00   1.00000000e+00   1.00000000e+00\n",
    "    0.00000000e+00   0.00000000e+00   0.00000000e+00   0.00000000e+00\n",
    "    0.00000000e+00]]"
   ]
  },
  {
   "cell_type": "code",
   "execution_count": null,
   "metadata": {
    "collapsed": true
   },
   "outputs": [],
   "source": []
  }
 ],
 "metadata": {
  "kernelspec": {
   "display_name": "Python 2",
   "language": "python",
   "name": "python2"
  },
  "language_info": {
   "codemirror_mode": {
    "name": "ipython",
    "version": 2
   },
   "file_extension": ".py",
   "mimetype": "text/x-python",
   "name": "python",
   "nbconvert_exporter": "python",
   "pygments_lexer": "ipython2",
   "version": "2.7.10"
  }
 },
 "nbformat": 4,
 "nbformat_minor": 0
}
