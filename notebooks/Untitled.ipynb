{
 "cells": [
  {
   "cell_type": "code",
   "execution_count": 10,
   "metadata": {
    "collapsed": true
   },
   "outputs": [],
   "source": [
    "import flask\n",
    "import numpy as np\n",
    "import pandas as pd\n",
    "import pickle\n",
    "from sklearn.tree import DecisionTreeClassifier\n",
    "from sklearn.linear_model import LogisticRegression\n",
    "from sklearn.neighbors import NearestNeighbors\n",
    "import numpy as np"
   ]
  },
  {
   "cell_type": "code",
   "execution_count": 3,
   "metadata": {
    "collapsed": false
   },
   "outputs": [],
   "source": [
    "df = pd.DataFrame(pickle.load(open('../prediction_app/static/dummied_recent_data.pkl', 'rb')))"
   ]
  },
  {
   "cell_type": "code",
   "execution_count": 6,
   "metadata": {
    "collapsed": false
   },
   "outputs": [
    {
     "data": {
      "text/html": [
       "<div>\n",
       "<table border=\"1\" class=\"dataframe\">\n",
       "  <thead>\n",
       "    <tr style=\"text-align: right;\">\n",
       "      <th></th>\n",
       "      <th>_projectid</th>\n",
       "      <th>_teacher_acctid</th>\n",
       "      <th>_schoolid</th>\n",
       "      <th>school_state</th>\n",
       "      <th>school_charter</th>\n",
       "      <th>school_magnet</th>\n",
       "      <th>school_year_round</th>\n",
       "      <th>school_nlns</th>\n",
       "      <th>school_kipp</th>\n",
       "      <th>school_charter_ready_promise</th>\n",
       "      <th>...</th>\n",
       "      <th>school_metro_suburban</th>\n",
       "      <th>school_metro_urban</th>\n",
       "      <th>teacher_gender_Female</th>\n",
       "      <th>teacher_gender_Male</th>\n",
       "      <th>resource_type_Books</th>\n",
       "      <th>resource_type_Other</th>\n",
       "      <th>resource_type_Supplies</th>\n",
       "      <th>resource_type_Technology</th>\n",
       "      <th>resource_type_Trips</th>\n",
       "      <th>resource_type_Visitors</th>\n",
       "    </tr>\n",
       "  </thead>\n",
       "  <tbody>\n",
       "    <tr>\n",
       "      <th>612442</th>\n",
       "      <td>02c7bc35161ba1b988e1c04c115c0a6f</td>\n",
       "      <td>a73f3c08cbc92234e21a515744fa6571</td>\n",
       "      <td>2f46844bf61a829e596073ace737f844</td>\n",
       "      <td>NY</td>\n",
       "      <td>1</td>\n",
       "      <td>1</td>\n",
       "      <td>1</td>\n",
       "      <td>1</td>\n",
       "      <td>1</td>\n",
       "      <td>1</td>\n",
       "      <td>...</td>\n",
       "      <td>0</td>\n",
       "      <td>1</td>\n",
       "      <td>1</td>\n",
       "      <td>0</td>\n",
       "      <td>0</td>\n",
       "      <td>0</td>\n",
       "      <td>1</td>\n",
       "      <td>0</td>\n",
       "      <td>0</td>\n",
       "      <td>0</td>\n",
       "    </tr>\n",
       "    <tr>\n",
       "      <th>612443</th>\n",
       "      <td>0899b88e9c28d26793af47e3c06cf26e</td>\n",
       "      <td>70cd4cde346f1119ac95add02dfe07c0</td>\n",
       "      <td>b39d78406a415f7abd50ea27735b9916</td>\n",
       "      <td>PA</td>\n",
       "      <td>0</td>\n",
       "      <td>1</td>\n",
       "      <td>0</td>\n",
       "      <td>1</td>\n",
       "      <td>1</td>\n",
       "      <td>1</td>\n",
       "      <td>...</td>\n",
       "      <td>0</td>\n",
       "      <td>1</td>\n",
       "      <td>1</td>\n",
       "      <td>0</td>\n",
       "      <td>0</td>\n",
       "      <td>1</td>\n",
       "      <td>0</td>\n",
       "      <td>0</td>\n",
       "      <td>0</td>\n",
       "      <td>0</td>\n",
       "    </tr>\n",
       "    <tr>\n",
       "      <th>612444</th>\n",
       "      <td>038fbbffb42416d0ca8ff46dff7ce743</td>\n",
       "      <td>ad539e8f4d9614e2af254481e97814df</td>\n",
       "      <td>023f1becba6de68d87dd599788d6428b</td>\n",
       "      <td>UT</td>\n",
       "      <td>1</td>\n",
       "      <td>0</td>\n",
       "      <td>1</td>\n",
       "      <td>1</td>\n",
       "      <td>1</td>\n",
       "      <td>1</td>\n",
       "      <td>...</td>\n",
       "      <td>0</td>\n",
       "      <td>1</td>\n",
       "      <td>1</td>\n",
       "      <td>0</td>\n",
       "      <td>0</td>\n",
       "      <td>1</td>\n",
       "      <td>0</td>\n",
       "      <td>0</td>\n",
       "      <td>0</td>\n",
       "      <td>0</td>\n",
       "    </tr>\n",
       "    <tr>\n",
       "      <th>612445</th>\n",
       "      <td>0c317340d757b09c7a56390cb1b5602e</td>\n",
       "      <td>557b5c4690822d7fd20140c2a22582cd</td>\n",
       "      <td>ebb0c43252024f8decb56b7f51e59007</td>\n",
       "      <td>NY</td>\n",
       "      <td>1</td>\n",
       "      <td>0</td>\n",
       "      <td>1</td>\n",
       "      <td>1</td>\n",
       "      <td>1</td>\n",
       "      <td>1</td>\n",
       "      <td>...</td>\n",
       "      <td>0</td>\n",
       "      <td>1</td>\n",
       "      <td>1</td>\n",
       "      <td>0</td>\n",
       "      <td>0</td>\n",
       "      <td>0</td>\n",
       "      <td>1</td>\n",
       "      <td>0</td>\n",
       "      <td>0</td>\n",
       "      <td>0</td>\n",
       "    </tr>\n",
       "    <tr>\n",
       "      <th>612446</th>\n",
       "      <td>0a89a92fadb414ac19172e889d78fe21</td>\n",
       "      <td>933ddc3b628ce2073c94f3e3fbfc63ba</td>\n",
       "      <td>ea9b3651a692286563e7bbe47f6eaa87</td>\n",
       "      <td>FL</td>\n",
       "      <td>1</td>\n",
       "      <td>1</td>\n",
       "      <td>1</td>\n",
       "      <td>1</td>\n",
       "      <td>1</td>\n",
       "      <td>1</td>\n",
       "      <td>...</td>\n",
       "      <td>0</td>\n",
       "      <td>1</td>\n",
       "      <td>1</td>\n",
       "      <td>0</td>\n",
       "      <td>1</td>\n",
       "      <td>0</td>\n",
       "      <td>0</td>\n",
       "      <td>0</td>\n",
       "      <td>0</td>\n",
       "      <td>0</td>\n",
       "    </tr>\n",
       "  </tbody>\n",
       "</table>\n",
       "<p>5 rows × 126 columns</p>\n",
       "</div>"
      ],
      "text/plain": [
       "                              _projectid                   _teacher_acctid  \\\n",
       "612442  02c7bc35161ba1b988e1c04c115c0a6f  a73f3c08cbc92234e21a515744fa6571   \n",
       "612443  0899b88e9c28d26793af47e3c06cf26e  70cd4cde346f1119ac95add02dfe07c0   \n",
       "612444  038fbbffb42416d0ca8ff46dff7ce743  ad539e8f4d9614e2af254481e97814df   \n",
       "612445  0c317340d757b09c7a56390cb1b5602e  557b5c4690822d7fd20140c2a22582cd   \n",
       "612446  0a89a92fadb414ac19172e889d78fe21  933ddc3b628ce2073c94f3e3fbfc63ba   \n",
       "\n",
       "                               _schoolid school_state  school_charter  \\\n",
       "612442  2f46844bf61a829e596073ace737f844           NY               1   \n",
       "612443  b39d78406a415f7abd50ea27735b9916           PA               0   \n",
       "612444  023f1becba6de68d87dd599788d6428b           UT               1   \n",
       "612445  ebb0c43252024f8decb56b7f51e59007           NY               1   \n",
       "612446  ea9b3651a692286563e7bbe47f6eaa87           FL               1   \n",
       "\n",
       "        school_magnet  school_year_round  school_nlns  school_kipp  \\\n",
       "612442              1                  1            1            1   \n",
       "612443              1                  0            1            1   \n",
       "612444              0                  1            1            1   \n",
       "612445              0                  1            1            1   \n",
       "612446              1                  1            1            1   \n",
       "\n",
       "        school_charter_ready_promise           ...            \\\n",
       "612442                             1           ...             \n",
       "612443                             1           ...             \n",
       "612444                             1           ...             \n",
       "612445                             1           ...             \n",
       "612446                             1           ...             \n",
       "\n",
       "        school_metro_suburban  school_metro_urban  teacher_gender_Female  \\\n",
       "612442                      0                   1                      1   \n",
       "612443                      0                   1                      1   \n",
       "612444                      0                   1                      1   \n",
       "612445                      0                   1                      1   \n",
       "612446                      0                   1                      1   \n",
       "\n",
       "        teacher_gender_Male  resource_type_Books  resource_type_Other  \\\n",
       "612442                    0                    0                    0   \n",
       "612443                    0                    0                    1   \n",
       "612444                    0                    0                    1   \n",
       "612445                    0                    0                    0   \n",
       "612446                    0                    1                    0   \n",
       "\n",
       "       resource_type_Supplies  resource_type_Technology  resource_type_Trips  \\\n",
       "612442                      1                         0                    0   \n",
       "612443                      0                         0                    0   \n",
       "612444                      0                         0                    0   \n",
       "612445                      1                         0                    0   \n",
       "612446                      0                         0                    0   \n",
       "\n",
       "        resource_type_Visitors  \n",
       "612442                       0  \n",
       "612443                       0  \n",
       "612444                       0  \n",
       "612445                       0  \n",
       "612446                       0  \n",
       "\n",
       "[5 rows x 126 columns]"
      ]
     },
     "execution_count": 6,
     "metadata": {},
     "output_type": "execute_result"
    }
   ],
   "source": [
    "df.head()"
   ]
  },
  {
   "cell_type": "code",
   "execution_count": 32,
   "metadata": {
    "collapsed": true
   },
   "outputs": [],
   "source": [
    "X = df[[\n",
    " 'school_previous_projects',\n",
    " 'teacher_previous_projects',\n",
    " 'month',\n",
    " 'log_price_including',\n",
    " 'sqrt_students_reached',\n",
    " 'price_per_student',\n",
    " 'total_state_donors',\n",
    " 'total_state_projects',\n",
    " 'state_avg_donors',\n",
    " 'primary_focus_subject_Applied Sciences',\n",
    " 'primary_focus_subject_Character Education',\n",
    " 'primary_focus_subject_Civics & Government',\n",
    " 'primary_focus_subject_College & Career Prep',\n",
    " 'primary_focus_subject_Community Service',\n",
    " 'primary_focus_subject_ESL',\n",
    " 'primary_focus_subject_Early Development',\n",
    " 'primary_focus_subject_Economics',\n",
    " 'primary_focus_subject_Environmental Science',\n",
    " 'primary_focus_subject_Extracurricular',\n",
    " 'primary_focus_subject_Financial Literacy',\n",
    " 'primary_focus_subject_Foreign Languages',\n",
    " 'primary_focus_subject_Gym & Fitness',\n",
    " 'primary_focus_subject_Health & Life Science',\n",
    " 'primary_focus_subject_Health & Wellness',\n",
    " 'primary_focus_subject_History & Geography',\n",
    " 'primary_focus_subject_Literacy',\n",
    " 'primary_focus_subject_Literature & Writing',\n",
    " 'primary_focus_subject_Mathematics',\n",
    " 'primary_focus_subject_Music',\n",
    " 'primary_focus_subject_Nutrition',\n",
    " 'primary_focus_subject_Other',\n",
    " 'primary_focus_subject_Parent Involvement',\n",
    " 'primary_focus_subject_Performing Arts',\n",
    " 'primary_focus_subject_Social Sciences',\n",
    " 'primary_focus_subject_Special Needs',\n",
    " 'primary_focus_subject_Team Sports',\n",
    " 'primary_focus_subject_Visual Arts',\n",
    " 'poverty_level_high poverty',\n",
    " 'poverty_level_highest poverty',\n",
    " 'poverty_level_low poverty',\n",
    " 'poverty_level_moderate poverty',\n",
    " 'grade_level_Grades 3-5',\n",
    " 'grade_level_Grades 6-8',\n",
    " 'grade_level_Grades 9-12',\n",
    " 'grade_level_Grades PreK-2',\n",
    " 'school_metro_rural',\n",
    " 'school_metro_suburban',\n",
    " 'school_metro_urban',\n",
    " 'resource_type_Books',\n",
    " 'resource_type_Other',\n",
    " 'resource_type_Supplies',\n",
    " 'resource_type_Technology',\n",
    " 'resource_type_Trips',\n",
    " 'resource_type_Visitors']]\n",
    "Y = df[['RESP']]\n",
    "Y = np.ravel(Y)\n",
    "PREDICTOR = LogisticRegression().fit(X, Y)\n",
    "#PREDICTOR = DecisionTreeClassifier(max_depth = 4, class_weight = \"auto\" ).fit(X, Y)"
   ]
  },
  {
   "cell_type": "code",
   "execution_count": 28,
   "metadata": {
    "collapsed": false
   },
   "outputs": [
    {
     "data": {
      "text/plain": [
       "array([  2.20000000e+01,   1.00000000e+00,   1.00000000e+00,\n",
       "         5.27038075e+00,   2.23606798e+00,   3.88980000e+01,\n",
       "         3.34846000e+05,   8.54570000e+04,   3.91829809e+00,\n",
       "         0.00000000e+00,   0.00000000e+00,   0.00000000e+00,\n",
       "         0.00000000e+00,   0.00000000e+00,   0.00000000e+00,\n",
       "         0.00000000e+00,   0.00000000e+00,   0.00000000e+00,\n",
       "         0.00000000e+00,   0.00000000e+00,   0.00000000e+00,\n",
       "         0.00000000e+00,   0.00000000e+00,   0.00000000e+00,\n",
       "         0.00000000e+00,   0.00000000e+00,   0.00000000e+00,\n",
       "         0.00000000e+00,   0.00000000e+00,   0.00000000e+00,\n",
       "         0.00000000e+00,   0.00000000e+00,   0.00000000e+00,\n",
       "         0.00000000e+00,   0.00000000e+00,   0.00000000e+00,\n",
       "         1.00000000e+00,   0.00000000e+00,   1.00000000e+00,\n",
       "         0.00000000e+00,   0.00000000e+00,   0.00000000e+00,\n",
       "         1.00000000e+00,   0.00000000e+00,   0.00000000e+00,\n",
       "         0.00000000e+00,   0.00000000e+00,   1.00000000e+00,\n",
       "         0.00000000e+00,   0.00000000e+00,   1.00000000e+00,\n",
       "         0.00000000e+00,   0.00000000e+00,   0.00000000e+00])"
      ]
     },
     "execution_count": 28,
     "metadata": {},
     "output_type": "execute_result"
    }
   ],
   "source": [
    "test_x = np.array(X.ix[612442])\n",
    "test_x"
   ]
  },
  {
   "cell_type": "code",
   "execution_count": 36,
   "metadata": {
    "collapsed": false
   },
   "outputs": [
    {
     "data": {
      "text/plain": [
       "[('school_previous_projects', 22.0),\n",
       " ('teacher_previous_projects', 1.0),\n",
       " ('month', 1.0),\n",
       " ('log_price_including', 5.2703807478550138),\n",
       " ('sqrt_students_reached', 2.2360679774997898),\n",
       " ('price_per_student', 38.898000000000003),\n",
       " ('total_state_donors', 334846.0),\n",
       " ('total_state_projects', 85457.0),\n",
       " ('state_avg_donors', 3.9182980914377992),\n",
       " ('primary_focus_subject_Applied Sciences', 0.0),\n",
       " ('primary_focus_subject_Character Education', 0.0),\n",
       " ('primary_focus_subject_Civics & Government', 0.0),\n",
       " ('primary_focus_subject_College & Career Prep', 0.0),\n",
       " ('primary_focus_subject_Community Service', 0.0),\n",
       " ('primary_focus_subject_ESL', 0.0),\n",
       " ('primary_focus_subject_Early Development', 0.0),\n",
       " ('primary_focus_subject_Economics', 0.0),\n",
       " ('primary_focus_subject_Environmental Science', 0.0),\n",
       " ('primary_focus_subject_Extracurricular', 0.0),\n",
       " ('primary_focus_subject_Financial Literacy', 0.0),\n",
       " ('primary_focus_subject_Foreign Languages', 0.0),\n",
       " ('primary_focus_subject_Gym & Fitness', 0.0),\n",
       " ('primary_focus_subject_Health & Life Science', 0.0),\n",
       " ('primary_focus_subject_Health & Wellness', 0.0),\n",
       " ('primary_focus_subject_History & Geography', 0.0),\n",
       " ('primary_focus_subject_Literacy', 0.0),\n",
       " ('primary_focus_subject_Literature & Writing', 0.0),\n",
       " ('primary_focus_subject_Mathematics', 0.0),\n",
       " ('primary_focus_subject_Music', 0.0),\n",
       " ('primary_focus_subject_Nutrition', 0.0),\n",
       " ('primary_focus_subject_Other', 0.0),\n",
       " ('primary_focus_subject_Parent Involvement', 0.0),\n",
       " ('primary_focus_subject_Performing Arts', 0.0),\n",
       " ('primary_focus_subject_Social Sciences', 0.0),\n",
       " ('primary_focus_subject_Special Needs', 0.0),\n",
       " ('primary_focus_subject_Team Sports', 0.0),\n",
       " ('primary_focus_subject_Visual Arts', 1.0),\n",
       " ('poverty_level_high poverty', 0.0),\n",
       " ('poverty_level_highest poverty', 1.0),\n",
       " ('poverty_level_low poverty', 0.0),\n",
       " ('poverty_level_moderate poverty', 0.0),\n",
       " ('grade_level_Grades 3-5', 0.0),\n",
       " ('grade_level_Grades 6-8', 1.0),\n",
       " ('grade_level_Grades 9-12', 0.0),\n",
       " ('grade_level_Grades PreK-2', 0.0),\n",
       " ('school_metro_rural', 0.0),\n",
       " ('school_metro_suburban', 0.0),\n",
       " ('school_metro_urban', 1.0),\n",
       " ('resource_type_Books', 0.0),\n",
       " ('resource_type_Other', 0.0),\n",
       " ('resource_type_Supplies', 1.0),\n",
       " ('resource_type_Technology', 0.0),\n",
       " ('resource_type_Trips', 0.0),\n",
       " ('resource_type_Visitors', 0.0)]"
      ]
     },
     "execution_count": 36,
     "metadata": {},
     "output_type": "execute_result"
    }
   ],
   "source": [
    "new_test = zip(X.columns, test_x)\n",
    "new_test"
   ]
  },
  {
   "cell_type": "code",
   "execution_count": 29,
   "metadata": {
    "collapsed": false
   },
   "outputs": [
    {
     "data": {
      "text/plain": [
       "array([[150363]])"
      ]
     },
     "execution_count": 29,
     "metadata": {},
     "output_type": "execute_result"
    }
   ],
   "source": [
    "nbrs = NearestNeighbors(n_neighbors=1, algorithm='ball_tree').fit(X[1:])\n",
    "distances, indices = nbrs.kneighbors(test_x)\n",
    "indices"
   ]
  },
  {
   "cell_type": "code",
   "execution_count": 35,
   "metadata": {
    "collapsed": false
   },
   "outputs": [
    {
     "data": {
      "text/plain": [
       "school_previous_projects                          27.000000\n",
       "teacher_previous_projects                        145.000000\n",
       "month                                              1.000000\n",
       "log_price_including                                5.759596\n",
       "sqrt_students_reached                              7.141428\n",
       "price_per_student                                  6.220000\n",
       "total_state_donors                             73372.000000\n",
       "total_state_projects                           23273.000000\n",
       "state_avg_donors                                   3.152666\n",
       "primary_focus_subject_Applied Sciences             0.000000\n",
       "primary_focus_subject_Character Education          0.000000\n",
       "primary_focus_subject_Civics & Government          0.000000\n",
       "primary_focus_subject_College & Career Prep        0.000000\n",
       "primary_focus_subject_Community Service            0.000000\n",
       "primary_focus_subject_ESL                          0.000000\n",
       "primary_focus_subject_Early Development            0.000000\n",
       "primary_focus_subject_Economics                    0.000000\n",
       "primary_focus_subject_Environmental Science        1.000000\n",
       "primary_focus_subject_Extracurricular              0.000000\n",
       "primary_focus_subject_Financial Literacy           0.000000\n",
       "primary_focus_subject_Foreign Languages            0.000000\n",
       "primary_focus_subject_Gym & Fitness                0.000000\n",
       "primary_focus_subject_Health & Life Science        0.000000\n",
       "primary_focus_subject_Health & Wellness            0.000000\n",
       "primary_focus_subject_History & Geography          0.000000\n",
       "primary_focus_subject_Literacy                     0.000000\n",
       "primary_focus_subject_Literature & Writing         0.000000\n",
       "primary_focus_subject_Mathematics                  0.000000\n",
       "primary_focus_subject_Music                        0.000000\n",
       "primary_focus_subject_Nutrition                    0.000000\n",
       "primary_focus_subject_Other                        0.000000\n",
       "primary_focus_subject_Parent Involvement           0.000000\n",
       "primary_focus_subject_Performing Arts              0.000000\n",
       "primary_focus_subject_Social Sciences              0.000000\n",
       "primary_focus_subject_Special Needs                0.000000\n",
       "primary_focus_subject_Team Sports                  0.000000\n",
       "primary_focus_subject_Visual Arts                  0.000000\n",
       "poverty_level_high poverty                         0.000000\n",
       "poverty_level_highest poverty                      1.000000\n",
       "poverty_level_low poverty                          0.000000\n",
       "poverty_level_moderate poverty                     0.000000\n",
       "grade_level_Grades 3-5                             1.000000\n",
       "grade_level_Grades 6-8                             0.000000\n",
       "grade_level_Grades 9-12                            0.000000\n",
       "grade_level_Grades PreK-2                          0.000000\n",
       "school_metro_rural                                 0.000000\n",
       "school_metro_suburban                              1.000000\n",
       "school_metro_urban                                 0.000000\n",
       "resource_type_Books                                0.000000\n",
       "resource_type_Other                                0.000000\n",
       "resource_type_Supplies                             0.000000\n",
       "resource_type_Technology                           1.000000\n",
       "resource_type_Trips                                0.000000\n",
       "resource_type_Visitors                             0.000000\n",
       "Name: 150363, dtype: float64"
      ]
     },
     "execution_count": 35,
     "metadata": {},
     "output_type": "execute_result"
    }
   ],
   "source": [
    "X = X.reset_index(drop=True)\n",
    "X.ix[150363]"
   ]
  },
  {
   "cell_type": "code",
   "execution_count": 38,
   "metadata": {
    "collapsed": false
   },
   "outputs": [],
   "source": [
    "list_test = [1, 26, 1, 6.354370040797351, 9.746794344808963, 5.2631578947368425, 334846.0, 85457.0, 3.918298091437799, 1, 0, 0, 0, 0, 0, 0, 0, 0, 0, 0, 0, 0, 0, 0, 0, 0, 0, 0, 0, 0, 0, 0, 0, 0, 0, 0, 0, 1, 0, 0, 0, 0, 0, 1, 0, 0, 1, 1, 0, 0, 0, 0, 0]"
   ]
  },
  {
   "cell_type": "code",
   "execution_count": 39,
   "metadata": {
    "collapsed": false
   },
   "outputs": [
    {
     "name": "stdout",
     "output_type": "stream",
     "text": [
      "53\n"
     ]
    }
   ],
   "source": [
    "print len(list_test)"
   ]
  },
  {
   "cell_type": "code",
   "execution_count": 40,
   "metadata": {
    "collapsed": false
   },
   "outputs": [
    {
     "name": "stdout",
     "output_type": "stream",
     "text": [
      "(205022, 54)\n"
     ]
    }
   ],
   "source": [
    "print X.shape"
   ]
  },
  {
   "cell_type": "code",
   "execution_count": 42,
   "metadata": {
    "collapsed": false
   },
   "outputs": [],
   "source": [
    "x_columns= X.columns.values.tolist()"
   ]
  },
  {
   "cell_type": "code",
   "execution_count": 45,
   "metadata": {
    "collapsed": false
   },
   "outputs": [
    {
     "data": {
      "text/plain": [
       "['school_previous_projects',\n",
       " 'teacher_previous_projects',\n",
       " 'month',\n",
       " 'log_price_including',\n",
       " 'sqrt_students_reached',\n",
       " 'price_per_student',\n",
       " 'total_state_donors',\n",
       " 'total_state_projects',\n",
       " 'state_avg_donors',\n",
       " 'primary_focus_subject_Applied Sciences',\n",
       " 'primary_focus_subject_Character Education',\n",
       " 'primary_focus_subject_Civics & Government',\n",
       " 'primary_focus_subject_College & Career Prep',\n",
       " 'primary_focus_subject_Community Service',\n",
       " 'primary_focus_subject_ESL',\n",
       " 'primary_focus_subject_Early Development',\n",
       " 'primary_focus_subject_Economics',\n",
       " 'primary_focus_subject_Environmental Science',\n",
       " 'primary_focus_subject_Extracurricular',\n",
       " 'primary_focus_subject_Financial Literacy',\n",
       " 'primary_focus_subject_Foreign Languages',\n",
       " 'primary_focus_subject_Gym & Fitness',\n",
       " 'primary_focus_subject_Health & Life Science',\n",
       " 'primary_focus_subject_Health & Wellness',\n",
       " 'primary_focus_subject_History & Geography',\n",
       " 'primary_focus_subject_Literacy',\n",
       " 'primary_focus_subject_Literature & Writing',\n",
       " 'primary_focus_subject_Mathematics',\n",
       " 'primary_focus_subject_Music',\n",
       " 'primary_focus_subject_Nutrition',\n",
       " 'primary_focus_subject_Other',\n",
       " 'primary_focus_subject_Parent Involvement',\n",
       " 'primary_focus_subject_Performing Arts',\n",
       " 'primary_focus_subject_Social Sciences',\n",
       " 'primary_focus_subject_Special Needs',\n",
       " 'primary_focus_subject_Team Sports',\n",
       " 'primary_focus_subject_Visual Arts',\n",
       " 'poverty_level_high poverty',\n",
       " 'poverty_level_highest poverty',\n",
       " 'poverty_level_low poverty',\n",
       " 'poverty_level_moderate poverty',\n",
       " 'grade_level_Grades 3-5',\n",
       " 'grade_level_Grades 6-8',\n",
       " 'grade_level_Grades 9-12',\n",
       " 'grade_level_Grades PreK-2',\n",
       " 'school_metro_rural',\n",
       " 'school_metro_suburban',\n",
       " 'school_metro_urban',\n",
       " 'resource_type_Books',\n",
       " 'resource_type_Other',\n",
       " 'resource_type_Supplies',\n",
       " 'resource_type_Technology',\n",
       " 'resource_type_Trips',\n",
       " 'resource_type_Visitors']"
      ]
     },
     "execution_count": 45,
     "metadata": {},
     "output_type": "execute_result"
    }
   ],
   "source": [
    "x_columns"
   ]
  },
  {
   "cell_type": "code",
   "execution_count": null,
   "metadata": {
    "collapsed": true
   },
   "outputs": [],
   "source": []
  }
 ],
 "metadata": {
  "kernelspec": {
   "display_name": "Python 2",
   "language": "python",
   "name": "python2"
  },
  "language_info": {
   "codemirror_mode": {
    "name": "ipython",
    "version": 2
   },
   "file_extension": ".py",
   "mimetype": "text/x-python",
   "name": "python",
   "nbconvert_exporter": "python",
   "pygments_lexer": "ipython2",
   "version": "2.7.10"
  }
 },
 "nbformat": 4,
 "nbformat_minor": 0
}
