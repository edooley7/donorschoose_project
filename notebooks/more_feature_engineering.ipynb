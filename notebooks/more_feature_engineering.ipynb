{
 "cells": [
  {
   "cell_type": "code",
   "execution_count": 2,
   "metadata": {
    "collapsed": false
   },
   "outputs": [],
   "source": [
    "from __future__ import division\n",
    "import pandas as pd\n",
    "import pickle\n",
    "import numpy as np\n",
    "\n",
    "pd.options.mode.chained_assignment = None"
   ]
  },
  {
   "cell_type": "code",
   "execution_count": 3,
   "metadata": {
    "collapsed": false
   },
   "outputs": [
    {
     "name": "stdout",
     "output_type": "stream",
     "text": [
      "Done reading csv\n"
     ]
    }
   ],
   "source": [
    "df = pd.read_csv(\"~/donorschoose/data_files/opendata_projects.csv\", parse_dates = ['date_posted', 'date_completed', 'date_thank_you_packet_mailed', 'date_expiration'])\n",
    "print \"Done reading csv\""
   ]
  },
  {
   "cell_type": "code",
   "execution_count": 4,
   "metadata": {
    "collapsed": false
   },
   "outputs": [
    {
     "data": {
      "text/plain": [
       "\"# Pickle dump currently live projects as hold out set for final testing\\nlive_df = df[df['funding_status'] =='live']\\nwith open('holdout_set.pkl', 'w') as live_file:\\n    pickle.dump(live_df, live_file)\\nprint 'Done creating holdout set'\""
      ]
     },
     "execution_count": 4,
     "metadata": {},
     "output_type": "execute_result"
    }
   ],
   "source": [
    "\"\"\"# Pickle dump currently live projects as hold out set for final testing\n",
    "live_df = df[df['funding_status'] =='live']\n",
    "with open('holdout_set.pkl', 'w') as live_file:\n",
    "    pickle.dump(live_df, live_file)\n",
    "print 'Done creating holdout set'\"\"\""
   ]
  },
  {
   "cell_type": "code",
   "execution_count": 91,
   "metadata": {
    "collapsed": false
   },
   "outputs": [
    {
     "name": "stdout",
     "output_type": "stream",
     "text": [
      "Percent of original data remaining: 96.28\n",
      "Done step 1/5\n"
     ]
    }
   ],
   "source": [
    "# Throw out reallocated and live projects and label rows\n",
    "df2 = df[df['funding_status'] != \"reallocated\"]\n",
    "df2 = df2[df2['funding_status'] != \"live\"]\n",
    "df2['RESP'] = 0\n",
    "df2['RESP'][df2['funding_status'] == 'completed'] = 1\n",
    "per_remaining = len(df2) / len(df)\n",
    "print \"Percent of original data remaining: %0.2f\" % (per_remaining * 100)\n",
    "print \"Done step 1/5\""
   ]
  },
  {
   "cell_type": "code",
   "execution_count": 92,
   "metadata": {
    "collapsed": false
   },
   "outputs": [
    {
     "name": "stdout",
     "output_type": "stream",
     "text": [
      "Done step 2/5\n"
     ]
    }
   ],
   "source": [
    "# Replace binary features with 0,1\n",
    "binary_features = ['school_charter',\n",
    " 'school_magnet',\n",
    " 'school_year_round',\n",
    " 'school_nlns',\n",
    " 'school_kipp',\n",
    " 'school_charter_ready_promise',\n",
    "'teacher_teach_for_america',\n",
    " 'teacher_ny_teaching_fellow']\n",
    "for feature in binary_features:\n",
    "    df2[feature] = df2[feature].replace(\"t\", 0)\n",
    "    df2[feature] = df2[feature].replace(\"f\", 1)\n",
    "print \"Done step 2/5\""
   ]
  },
  {
   "cell_type": "code",
   "execution_count": 93,
   "metadata": {
    "collapsed": false
   },
   "outputs": [
    {
     "name": "stdout",
     "output_type": "stream",
     "text": [
      "Done step 3/5\n"
     ]
    }
   ],
   "source": [
    "# Calculate month, quarter and year for date project was posted on site\n",
    "df2['month'] = df2.date_posted.map(lambda x: x.month)\n",
    "df2['quarter'] = df2.date_posted.map(lambda x: x.quarter)\n",
    "df2['year'] = df2.date_posted.map(lambda x: x.year)\n",
    "print \"Done step 3/5\""
   ]
  },
  {
   "cell_type": "code",
   "execution_count": 94,
   "metadata": {
    "collapsed": false
   },
   "outputs": [
    {
     "name": "stdout",
     "output_type": "stream",
     "text": [
      "Done step 4/5\n"
     ]
    }
   ],
   "source": [
    "# Feature engineering (expiration dates and amount/percentage of optional support)\n",
    "df2['time_to_expire'] = df2.date_expiration - df2.date_posted\n",
    "df2['amount_optional_support'] = df2.total_price_including_optional_support - df2.total_price_excluding_optional_support\n",
    "df2['optional_support'] = 0\n",
    "df2['optional_support'][df2['amount_optional_support'] > 0] = 1\n",
    "df2['per_optional_support'] = df2.amount_optional_support / df2.total_price_excluding_optional_support\n",
    "print \"Done step 4/5\""
   ]
  },
  {
   "cell_type": "code",
   "execution_count": 95,
   "metadata": {
    "collapsed": false
   },
   "outputs": [
    {
     "name": "stdout",
     "output_type": "stream",
     "text": [
      "Done step 5/5\n"
     ]
    }
   ],
   "source": [
    "# Feature engineering (previous projects posted by school & teacher)\n",
    "school_posted = df2.set_index('date_posted').groupby('_schoolid').cumcount()\n",
    "df2['school_previous_projects'] = school_posted.values\n",
    "\n",
    "teacher_posted = df2.set_index('date_posted').groupby('_teacher_acctid').cumcount()\n",
    "df2['teacher_previous_projects'] = teacher_posted.values\n",
    "print \"Done step 5/5\""
   ]
  },
  {
   "cell_type": "code",
   "execution_count": 96,
   "metadata": {
    "collapsed": true
   },
   "outputs": [],
   "source": [
    "df2.students_reached = df2.students_reached +1"
   ]
  },
  {
   "cell_type": "code",
   "execution_count": 97,
   "metadata": {
    "collapsed": false
   },
   "outputs": [],
   "source": [
    "df2.total_price_excluding_optional_support = df2.total_price_excluding_optional_support + 1"
   ]
  },
  {
   "cell_type": "code",
   "execution_count": 98,
   "metadata": {
    "collapsed": false
   },
   "outputs": [],
   "source": [
    "df2.total_price_including_optional_support = df2.total_price_including_optional_support + 1"
   ]
  },
  {
   "cell_type": "code",
   "execution_count": 99,
   "metadata": {
    "collapsed": false
   },
   "outputs": [],
   "source": [
    "df2['log_price_including'] = np.log(df2.total_price_including_optional_support)"
   ]
  },
  {
   "cell_type": "code",
   "execution_count": 100,
   "metadata": {
    "collapsed": true
   },
   "outputs": [],
   "source": [
    "df2['log_price_excluding'] = np.log(df2.total_price_excluding_optional_support)"
   ]
  },
  {
   "cell_type": "code",
   "execution_count": 101,
   "metadata": {
    "collapsed": true
   },
   "outputs": [],
   "source": [
    "df2['sqrt_students_reached'] = np.sqrt(df2.students_reached)"
   ]
  },
  {
   "cell_type": "code",
   "execution_count": 102,
   "metadata": {
    "collapsed": false
   },
   "outputs": [],
   "source": [
    "df2['student_bins'] = pd.qcut(df2['students_reached'], 10)"
   ]
  },
  {
   "cell_type": "code",
   "execution_count": 103,
   "metadata": {
    "collapsed": true
   },
   "outputs": [],
   "source": [
    "df2['price_in_bins'] = pd.qcut(df2['total_price_including_optional_support'], 10)"
   ]
  },
  {
   "cell_type": "code",
   "execution_count": 104,
   "metadata": {
    "collapsed": true
   },
   "outputs": [],
   "source": [
    "df2['price_ex_bins'] = pd.qcut(df2['total_price_excluding_optional_support'], 10)"
   ]
  },
  {
   "cell_type": "code",
   "execution_count": 105,
   "metadata": {
    "collapsed": false
   },
   "outputs": [],
   "source": [
    "df2['teacher_gender'] = df2.teacher_prefix\n",
    "df2.teacher_gender = df2.teacher_gender.replace(\"Mrs.\", \"Female\")\n",
    "df2.teacher_gender = df2.teacher_gender.replace(\"Ms.\", \"Female\")\n",
    "df2.teacher_gender = df2.teacher_gender.replace(\"Mr.\", \"Male\")\n",
    "df2.teacher_gender = df2.teacher_gender.replace(\"Dr.\", np.nan)\n",
    "df2.teacher_gender = df2.teacher_gender.replace(\"Mr. & Mrs.\", np.nan)"
   ]
  },
  {
   "cell_type": "code",
   "execution_count": 106,
   "metadata": {
    "collapsed": true
   },
   "outputs": [],
   "source": [
    "df2['price_per_student'] = df2.total_price_including_optional_support/df2.students_reached"
   ]
  },
  {
   "cell_type": "code",
   "execution_count": 107,
   "metadata": {
    "collapsed": false
   },
   "outputs": [],
   "source": [
    "df2['price_per_student_bins'] = pd.qcut(df2['price_per_student'], 20)"
   ]
  },
  {
   "cell_type": "code",
   "execution_count": 108,
   "metadata": {
    "collapsed": false
   },
   "outputs": [],
   "source": [
    "df2.school_state = df2.school_state.replace(\"La\", \"LA\")"
   ]
  },
  {
   "cell_type": "code",
   "execution_count": 109,
   "metadata": {
    "collapsed": false
   },
   "outputs": [],
   "source": [
    "state_df = pd.DataFrame(df2.num_donors.groupby([df2.school_state]).sum())\n",
    "state_df['school_state'] = state_df.index"
   ]
  },
  {
   "cell_type": "code",
   "execution_count": 110,
   "metadata": {
    "collapsed": false
   },
   "outputs": [],
   "source": [
    "state_projects_df = pd.DataFrame(df2.num_donors.groupby([df2.school_state]).count())\n",
    "state_projects_df['school_state'] = state_projects_df.index\n",
    "state_df = state_df.merge(state_projects_df, on = \"school_state\", how = \"left\")\n",
    "state_df.columns = ['total_state_donors', 'school_state', 'total_state_projects']"
   ]
  },
  {
   "cell_type": "code",
   "execution_count": 111,
   "metadata": {
    "collapsed": false
   },
   "outputs": [],
   "source": [
    "df2 = df2.merge(state_df, on = \"school_state\", how = \"left\")"
   ]
  },
  {
   "cell_type": "code",
   "execution_count": 112,
   "metadata": {
    "collapsed": false
   },
   "outputs": [],
   "source": [
    "df2['state_avg_donors'] = df2.total_state_donors/df2.total_state_projects"
   ]
  },
  {
   "cell_type": "code",
   "execution_count": 113,
   "metadata": {
    "collapsed": false
   },
   "outputs": [],
   "source": [
    "df2.vendor_shipping_charges = df2.vendor_shipping_charges.replace(np.nan, df2.vendor_shipping_charges.mean())"
   ]
  },
  {
   "cell_type": "code",
   "execution_count": 114,
   "metadata": {
    "collapsed": true
   },
   "outputs": [],
   "source": [
    "df3 = df2[['_projectid',\n",
    " '_teacher_acctid',\n",
    " '_schoolid',\n",
    " 'school_state',\n",
    " 'school_metro',\n",
    " 'school_charter',\n",
    " 'school_magnet',\n",
    " 'school_year_round',\n",
    " 'school_nlns',\n",
    " 'school_kipp',\n",
    " 'school_charter_ready_promise',\n",
    " 'teacher_teach_for_america',\n",
    " 'teacher_ny_teaching_fellow',\n",
    " 'primary_focus_subject',\n",
    " 'primary_focus_area',\n",
    " 'resource_type',\n",
    " 'poverty_level',\n",
    " 'grade_level',\n",
    " 'vendor_shipping_charges',\n",
    " 'total_price_excluding_optional_support',\n",
    " 'total_price_including_optional_support',\n",
    " 'students_reached',\n",
    " 'date_posted',\n",
    " 'RESP',\n",
    " 'month',\n",
    " 'quarter',\n",
    " 'year',\n",
    " 'time_to_expire',\n",
    " 'optional_support',\n",
    " 'school_previous_projects',\n",
    " 'teacher_previous_projects',\n",
    " 'log_price_including',\n",
    " 'log_price_excluding',\n",
    " 'sqrt_students_reached',\n",
    " 'student_bins',\n",
    " 'price_in_bins',\n",
    " 'price_ex_bins',\n",
    " 'teacher_gender',\n",
    " 'price_per_student',\n",
    " 'price_per_student_bins',\n",
    " 'total_state_donors',\n",
    " 'total_state_projects',\n",
    " 'state_avg_donors']]"
   ]
  },
  {
   "cell_type": "code",
   "execution_count": 118,
   "metadata": {
    "collapsed": false
   },
   "outputs": [],
   "source": [
    "df3 = df3.dropna(subset = ['school_metro','grade_level', 'students_reached', 'primary_focus_area', 'primary_focus_subject', 'resource_type', 'time_to_expire', 'teacher_gender'])"
   ]
  },
  {
   "cell_type": "code",
   "execution_count": 119,
   "metadata": {
    "collapsed": false
   },
   "outputs": [],
   "source": [
    "\"\"\"features = df3.columns.values.tolist()\n",
    "for feature in features:\n",
    "    per = (len(df3[feature]) - df3[feature].count())/len(df3[feature])\n",
    "    if per > 0.0:\n",
    "        print feature, \"has %0.4f percent missing values\" % (per*100)\"\"\""
   ]
  },
  {
   "cell_type": "code",
   "execution_count": 121,
   "metadata": {
    "collapsed": false
   },
   "outputs": [
    {
     "name": "stdout",
     "output_type": "stream",
     "text": [
      "Percent of remaining data still remaining: 88.72\n"
     ]
    }
   ],
   "source": [
    "final_remaining = len(df3)/len(df2)\n",
    "print \"Percent of remaining data still remaining: %0.2f\" % (final_remaining * 100)"
   ]
  },
  {
   "cell_type": "code",
   "execution_count": null,
   "metadata": {
    "collapsed": false
   },
   "outputs": [],
   "source": []
  },
  {
   "cell_type": "code",
   "execution_count": null,
   "metadata": {
    "collapsed": false
   },
   "outputs": [],
   "source": []
  },
  {
   "cell_type": "code",
   "execution_count": null,
   "metadata": {
    "collapsed": true
   },
   "outputs": [],
   "source": []
  }
 ],
 "metadata": {
  "kernelspec": {
   "display_name": "Python 2",
   "language": "python",
   "name": "python2"
  },
  "language_info": {
   "codemirror_mode": {
    "name": "ipython",
    "version": 2
   },
   "file_extension": ".py",
   "mimetype": "text/x-python",
   "name": "python",
   "nbconvert_exporter": "python",
   "pygments_lexer": "ipython2",
   "version": "2.7.10"
  }
 },
 "nbformat": 4,
 "nbformat_minor": 0
}
