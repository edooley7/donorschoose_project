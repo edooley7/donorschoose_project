{
 "cells": [
  {
   "cell_type": "code",
   "execution_count": 58,
   "metadata": {
    "collapsed": false
   },
   "outputs": [],
   "source": [
    "from __future__ import division\n",
    "import pandas as pd\n",
    "import pickle\n",
    "import numpy as np\n",
    "\n",
    "pd.options.mode.chained_assignment = None"
   ]
  },
  {
   "cell_type": "code",
   "execution_count": 59,
   "metadata": {
    "collapsed": false
   },
   "outputs": [
    {
     "name": "stdout",
     "output_type": "stream",
     "text": [
      "Done reading csv\n"
     ]
    }
   ],
   "source": [
    "df = pd.read_csv(\"~/donorschoose/data_files/opendata_projects.csv\", parse_dates = ['date_posted', 'date_completed', 'date_thank_you_packet_mailed', 'date_expiration'])\n",
    "print \"Done reading csv\""
   ]
  },
  {
   "cell_type": "code",
   "execution_count": 60,
   "metadata": {
    "collapsed": false
   },
   "outputs": [
    {
     "data": {
      "text/plain": [
       "\"# Pickle dump currently live projects as hold out set for final testing\\nlive_df = df[df['funding_status'] =='live']\\nwith open('holdout_set.pkl', 'w') as live_file:\\n    pickle.dump(live_df, live_file)\\nprint 'Done creating holdout set'\""
      ]
     },
     "execution_count": 60,
     "metadata": {},
     "output_type": "execute_result"
    }
   ],
   "source": [
    "\"\"\"# Pickle dump currently live projects as hold out set for final testing\n",
    "live_df = df[df['funding_status'] =='live']\n",
    "with open('holdout_set.pkl', 'w') as live_file:\n",
    "    pickle.dump(live_df, live_file)\n",
    "print 'Done creating holdout set'\"\"\""
   ]
  },
  {
   "cell_type": "code",
   "execution_count": 61,
   "metadata": {
    "collapsed": false
   },
   "outputs": [
    {
     "name": "stdout",
     "output_type": "stream",
     "text": [
      "Percent of original data remaining: 96.28\n",
      "Done step 1/5\n"
     ]
    }
   ],
   "source": [
    "# Throw out reallocated and live projects and label rows\n",
    "df2 = df[df['funding_status'] != \"reallocated\"]\n",
    "df2 = df2[df2['funding_status'] != \"live\"]\n",
    "df2['RESP'] = 0\n",
    "df2['RESP'][df2['funding_status'] == 'completed'] = 1\n",
    "per_remaining = len(df2) / len(df)\n",
    "print \"Percent of original data remaining: %0.2f\" % (per_remaining * 100)\n",
    "print \"Done step 1/5\""
   ]
  },
  {
   "cell_type": "code",
   "execution_count": 62,
   "metadata": {
    "collapsed": false
   },
   "outputs": [
    {
     "name": "stdout",
     "output_type": "stream",
     "text": [
      "Done step 2/5\n"
     ]
    }
   ],
   "source": [
    "# Replace binary features with 0,1\n",
    "binary_features = ['school_charter',\n",
    " 'school_magnet',\n",
    " 'school_year_round',\n",
    " 'school_nlns',\n",
    " 'school_kipp',\n",
    " 'school_charter_ready_promise',\n",
    "'teacher_teach_for_america',\n",
    " 'teacher_ny_teaching_fellow']\n",
    "for feature in binary_features:\n",
    "    df2[feature] = df2[feature].replace(\"t\", 0)\n",
    "    df2[feature] = df2[feature].replace(\"f\", 1)\n",
    "print \"Done step 2/5\""
   ]
  },
  {
   "cell_type": "code",
   "execution_count": 63,
   "metadata": {
    "collapsed": false
   },
   "outputs": [
    {
     "name": "stdout",
     "output_type": "stream",
     "text": [
      "Done step 3/5\n"
     ]
    }
   ],
   "source": [
    "# Calculate month, quarter and year for date project was posted on site\n",
    "df2['month'] = df2.date_posted.map(lambda x: x.month)\n",
    "df2['quarter'] = df2.date_posted.map(lambda x: x.quarter)\n",
    "df2['year'] = df2.date_posted.map(lambda x: x.year)\n",
    "print \"Done step 3/5\""
   ]
  },
  {
   "cell_type": "code",
   "execution_count": 64,
   "metadata": {
    "collapsed": false
   },
   "outputs": [
    {
     "name": "stdout",
     "output_type": "stream",
     "text": [
      "Done step 4/5\n"
     ]
    }
   ],
   "source": [
    "# Feature engineering (expiration dates and amount/percentage of optional support)\n",
    "df2['time_to_expire'] = df2.date_expiration - df2.date_posted\n",
    "df2['amount_optional_support'] = df2.total_price_including_optional_support - df2.total_price_excluding_optional_support\n",
    "df2['optional_support'] = 0\n",
    "df2['optional_support'][df2['amount_optional_support'] > 0] = 1\n",
    "df2['per_optional_support'] = df2.amount_optional_support / df2.total_price_excluding_optional_support\n",
    "print \"Done step 4/5\""
   ]
  },
  {
   "cell_type": "code",
   "execution_count": 65,
   "metadata": {
    "collapsed": false
   },
   "outputs": [
    {
     "name": "stdout",
     "output_type": "stream",
     "text": [
      "Done step 5/5\n"
     ]
    }
   ],
   "source": [
    "# Feature engineering (previous projects posted by school & teacher)\n",
    "school_posted = df2.set_index('date_posted').groupby('_schoolid').cumcount()\n",
    "df2['school_previous_projects'] = school_posted.values\n",
    "\n",
    "teacher_posted = df2.set_index('date_posted').groupby('_teacher_acctid').cumcount()\n",
    "df2['teacher_previous_projects'] = teacher_posted.values\n",
    "print \"Done step 5/5\""
   ]
  },
  {
   "cell_type": "code",
   "execution_count": 66,
   "metadata": {
    "collapsed": true
   },
   "outputs": [],
   "source": [
    "df2.students_reached = df2.students_reached +1"
   ]
  },
  {
   "cell_type": "code",
   "execution_count": 67,
   "metadata": {
    "collapsed": false
   },
   "outputs": [],
   "source": [
    "df2.total_price_excluding_optional_support = df2.total_price_excluding_optional_support + 1"
   ]
  },
  {
   "cell_type": "code",
   "execution_count": 68,
   "metadata": {
    "collapsed": false
   },
   "outputs": [],
   "source": [
    "df2.total_price_including_optional_support = df2.total_price_including_optional_support + 1"
   ]
  },
  {
   "cell_type": "code",
   "execution_count": 69,
   "metadata": {
    "collapsed": false
   },
   "outputs": [],
   "source": [
    "df2.vendor_shipping_charges = df2.vendor_shipping_charges + 1"
   ]
  },
  {
   "cell_type": "code",
   "execution_count": 70,
   "metadata": {
    "collapsed": false
   },
   "outputs": [],
   "source": [
    "df2['log_price_including'] = np.log(df2.total_price_including_optional_support)"
   ]
  },
  {
   "cell_type": "code",
   "execution_count": 71,
   "metadata": {
    "collapsed": true
   },
   "outputs": [],
   "source": [
    "df2['log_price_excluding'] = np.log(df2.total_price_excluding_optional_support)"
   ]
  },
  {
   "cell_type": "code",
   "execution_count": 72,
   "metadata": {
    "collapsed": true
   },
   "outputs": [],
   "source": [
    "df2['sqrt_students_reached'] = np.sqrt(df2.students_reached)"
   ]
  },
  {
   "cell_type": "code",
   "execution_count": 73,
   "metadata": {
    "collapsed": true
   },
   "outputs": [],
   "source": [
    "df2['log_vendor_shipping'] = np.log(df2.vendor_shipping_charges)"
   ]
  },
  {
   "cell_type": "code",
   "execution_count": 78,
   "metadata": {
    "collapsed": false
   },
   "outputs": [],
   "source": [
    "df2['student_bins'] = pd.qcut(df2['students_reached'], 10, labels = False)"
   ]
  },
  {
   "cell_type": "code",
   "execution_count": 80,
   "metadata": {
    "collapsed": true
   },
   "outputs": [],
   "source": [
    "df2['price_per_student'] = df2.total_price_including_optional_support/df2.students_reached"
   ]
  },
  {
   "cell_type": "code",
   "execution_count": 81,
   "metadata": {
    "collapsed": false
   },
   "outputs": [],
   "source": [
    "df2['price_in_bins'] = pd.qcut(df2['total_price_including_optional_support'], 10, labels = False)\n",
    "df2['price_ex_bins'] = pd.qcut(df2['total_price_excluding_optional_support'], 10, labels = False)\n",
    "df2['price_per_student_bins'] = pd.qcut(df2['price_per_student'], 10, labels = False)"
   ]
  },
  {
   "cell_type": "code",
   "execution_count": 82,
   "metadata": {
    "collapsed": false
   },
   "outputs": [],
   "source": [
    "df2['teacher_gender'] = df2.teacher_prefix\n",
    "df2.teacher_gender = df2.teacher_gender.replace(\"Mrs.\", \"Female\")\n",
    "df2.teacher_gender = df2.teacher_gender.replace(\"Ms.\", \"Female\")\n",
    "df2.teacher_gender = df2.teacher_gender.replace(\"Mr.\", \"Male\")\n",
    "df2.teacher_gender = df2.teacher_gender.replace(\"Dr.\", np.nan)\n",
    "df2.teacher_gender = df2.teacher_gender.replace(\"Mr. & Mrs.\", np.nan)"
   ]
  },
  {
   "cell_type": "code",
   "execution_count": 83,
   "metadata": {
    "collapsed": false
   },
   "outputs": [],
   "source": [
    "df2.school_state = df2.school_state.replace(\"La\", \"LA\")"
   ]
  },
  {
   "cell_type": "code",
   "execution_count": 84,
   "metadata": {
    "collapsed": false
   },
   "outputs": [],
   "source": [
    "state_df = pd.DataFrame(df2.num_donors.groupby([df2.school_state]).sum())\n",
    "state_df['school_state'] = state_df.index"
   ]
  },
  {
   "cell_type": "code",
   "execution_count": 85,
   "metadata": {
    "collapsed": false
   },
   "outputs": [],
   "source": [
    "state_projects_df = pd.DataFrame(df2.num_donors.groupby([df2.school_state]).count())\n",
    "state_projects_df['school_state'] = state_projects_df.index\n",
    "state_df = state_df.merge(state_projects_df, on = \"school_state\", how = \"left\")\n",
    "state_df.columns = ['total_state_donors', 'school_state', 'total_state_projects']"
   ]
  },
  {
   "cell_type": "code",
   "execution_count": 86,
   "metadata": {
    "collapsed": false
   },
   "outputs": [],
   "source": [
    "df2 = df2.merge(state_df, on = \"school_state\", how = \"left\")"
   ]
  },
  {
   "cell_type": "code",
   "execution_count": 87,
   "metadata": {
    "collapsed": false
   },
   "outputs": [],
   "source": [
    "df2['state_avg_donors'] = df2.total_state_donors/df2.total_state_projects"
   ]
  },
  {
   "cell_type": "code",
   "execution_count": 88,
   "metadata": {
    "collapsed": false
   },
   "outputs": [],
   "source": [
    "df2.vendor_shipping_charges = df2.vendor_shipping_charges.replace(np.nan, df2.vendor_shipping_charges.mean())"
   ]
  },
  {
   "cell_type": "code",
   "execution_count": null,
   "metadata": {
    "collapsed": true
   },
   "outputs": [],
   "source": []
  },
  {
   "cell_type": "code",
   "execution_count": 27,
   "metadata": {
    "collapsed": true
   },
   "outputs": [],
   "source": [
    "df3 = df2[['_projectid',\n",
    " '_teacher_acctid',\n",
    " '_schoolid',\n",
    " 'school_state',\n",
    " 'school_metro',\n",
    " 'school_charter',\n",
    " 'school_magnet',\n",
    " 'school_year_round',\n",
    " 'school_nlns',\n",
    " 'school_kipp',\n",
    " 'school_charter_ready_promise',\n",
    " 'teacher_teach_for_america',\n",
    " 'teacher_ny_teaching_fellow',\n",
    " 'primary_focus_subject',\n",
    " 'primary_focus_area',\n",
    " 'resource_type',\n",
    " 'poverty_level',\n",
    " 'grade_level',\n",
    " 'vendor_shipping_charges',\n",
    " 'total_price_excluding_optional_support',\n",
    " 'total_price_including_optional_support',\n",
    " 'students_reached',\n",
    " 'date_posted',\n",
    " 'RESP',\n",
    " 'month',\n",
    " 'quarter',\n",
    " 'year',\n",
    " 'time_to_expire',\n",
    " 'optional_support',\n",
    " 'school_previous_projects',\n",
    " 'teacher_previous_projects',\n",
    " 'log_price_including',\n",
    " 'log_price_excluding',\n",
    " 'sqrt_students_reached',\n",
    " 'student_bins',\n",
    " 'price_in_bins',\n",
    " 'price_ex_bins',\n",
    " 'teacher_gender',\n",
    " 'price_per_student',\n",
    " 'price_per_student_bins',\n",
    " 'total_state_donors',\n",
    " 'total_state_projects',\n",
    " 'state_avg_donors']]"
   ]
  },
  {
   "cell_type": "code",
   "execution_count": 28,
   "metadata": {
    "collapsed": false
   },
   "outputs": [],
   "source": [
    "df3 = df3.dropna(subset = ['school_metro','grade_level', 'students_reached', 'primary_focus_area', 'primary_focus_subject', 'resource_type', 'time_to_expire', 'teacher_gender'])"
   ]
  },
  {
   "cell_type": "code",
   "execution_count": 29,
   "metadata": {
    "collapsed": false
   },
   "outputs": [
    {
     "data": {
      "text/plain": [
       "'features = df3.columns.values.tolist()\\nfor feature in features:\\n    per = (len(df3[feature]) - df3[feature].count())/len(df3[feature])\\n    if per > 0.0:\\n        print feature, \"has %0.4f percent missing values\" % (per*100)'"
      ]
     },
     "execution_count": 29,
     "metadata": {},
     "output_type": "execute_result"
    }
   ],
   "source": [
    "\"\"\"features = df3.columns.values.tolist()\n",
    "for feature in features:\n",
    "    per = (len(df3[feature]) - df3[feature].count())/len(df3[feature])\n",
    "    if per > 0.0:\n",
    "        print feature, \"has %0.4f percent missing values\" % (per*100)\"\"\""
   ]
  },
  {
   "cell_type": "code",
   "execution_count": 30,
   "metadata": {
    "collapsed": false
   },
   "outputs": [
    {
     "name": "stdout",
     "output_type": "stream",
     "text": [
      "Percent of remaining data still remaining: 88.72\n"
     ]
    }
   ],
   "source": [
    "final_remaining = len(df3)/len(df2)\n",
    "print \"Percent of remaining data still remaining: %0.2f\" % (final_remaining * 100)"
   ]
  },
  {
   "cell_type": "code",
   "execution_count": 35,
   "metadata": {
    "collapsed": false
   },
   "outputs": [
    {
     "data": {
      "text/plain": [
       "['_projectid',\n",
       " '_teacher_acctid',\n",
       " '_schoolid',\n",
       " 'school_state',\n",
       " 'school_metro',\n",
       " 'school_charter',\n",
       " 'school_magnet',\n",
       " 'school_year_round',\n",
       " 'school_nlns',\n",
       " 'school_kipp',\n",
       " 'school_charter_ready_promise',\n",
       " 'teacher_teach_for_america',\n",
       " 'teacher_ny_teaching_fellow',\n",
       " 'primary_focus_subject',\n",
       " 'primary_focus_area',\n",
       " 'resource_type',\n",
       " 'poverty_level',\n",
       " 'grade_level',\n",
       " 'vendor_shipping_charges',\n",
       " 'total_price_excluding_optional_support',\n",
       " 'total_price_including_optional_support',\n",
       " 'students_reached',\n",
       " 'date_posted',\n",
       " 'RESP',\n",
       " 'month',\n",
       " 'quarter',\n",
       " 'year',\n",
       " 'time_to_expire',\n",
       " 'optional_support',\n",
       " 'school_previous_projects',\n",
       " 'teacher_previous_projects',\n",
       " 'log_price_including',\n",
       " 'log_price_excluding',\n",
       " 'sqrt_students_reached',\n",
       " 'student_bins',\n",
       " 'price_in_bins',\n",
       " 'price_ex_bins',\n",
       " 'teacher_gender',\n",
       " 'price_per_student',\n",
       " 'price_per_student_bins',\n",
       " 'total_state_donors',\n",
       " 'total_state_projects',\n",
       " 'state_avg_donors']"
      ]
     },
     "execution_count": 35,
     "metadata": {},
     "output_type": "execute_result"
    }
   ],
   "source": [
    "features = df3.columns.values.tolist()\n",
    "features"
   ]
  },
  {
   "cell_type": "code",
   "execution_count": 51,
   "metadata": {
    "collapsed": false
   },
   "outputs": [],
   "source": [
    "data_type_dict = {'_projectid': 'regular',\n",
    " '_teacher_acctid': 'regular',\n",
    " '_schoolid': 'regular',\n",
    " 'school_state': 'regular',\n",
    " 'school_metro': 'nominal',\n",
    " 'school_charter':'regular',\n",
    " 'school_magnet':'regular',\n",
    " 'school_year_round':'regular',\n",
    " 'school_nlns':'regular',\n",
    " 'school_kipp':'regular',\n",
    " 'school_charter_ready_promise':'regular',\n",
    " 'teacher_teach_for_america':'regular',\n",
    " 'teacher_ny_teaching_fellow':'regular',\n",
    " 'primary_focus_subject': 'nominal',\n",
    " 'primary_focus_area': 'nominal',\n",
    " 'resource_type': 'nominal',\n",
    " 'poverty_level': 'nominal',\n",
    " 'grade_level': 'nominal',\n",
    " 'vendor_shipping_charges':'regular',\n",
    " 'total_price_excluding_optional_support':'regular',\n",
    " 'total_price_including_optional_support':'regular',\n",
    " 'students_reached':'regular',\n",
    " 'date_posted':'regular',\n",
    " 'month':'regular',\n",
    " 'quarter':'regular',\n",
    " 'year':'regular',\n",
    " 'time_to_expire':'regular',\n",
    " 'optional_support':'regular',\n",
    " 'school_previous_projects':'regular',\n",
    " 'teacher_previous_projects':'regular',\n",
    " 'log_price_including':'regular',\n",
    " 'log_price_excluding':'regular',\n",
    " 'sqrt_students_reached':'regular',\n",
    " 'student_bins': 'nominal',\n",
    " 'price_in_bins': 'nominal',\n",
    " 'price_ex_bins': 'nominal',\n",
    " 'teacher_gender': 'nominal',\n",
    " 'price_per_student':'regular',\n",
    " 'price_per_student_bins': 'nominal',\n",
    " 'total_state_donors':'regular',\n",
    " 'total_state_projects':'regular',\n",
    " 'state_avg_donors':'regular',\n",
    " 'RESP':'regular'}"
   ]
  },
  {
   "cell_type": "code",
   "execution_count": 52,
   "metadata": {
    "collapsed": false
   },
   "outputs": [],
   "source": [
    "def dummy_variables(data, data_type_dict):\n",
    "    #Loop over nominal variables.\n",
    "    for variable in filter(lambda x: data_type_dict[x]=='nominal',\n",
    "                           data_type_dict.keys()):\n",
    " \n",
    "        #First we create the columns with dummy variables.\n",
    "        #Note that the argument 'prefix' means the column names will be\n",
    "        #prefix_value for each unique value in the original column, so\n",
    "        #we set the prefix to be the name of the original variable.\n",
    "        dummy_df=pd.get_dummies(data[variable], prefix=variable)\n",
    " \n",
    "        #Remove old variable from dictionary.\n",
    "        data_type_dict.pop(variable)\n",
    " \n",
    "        #Add new dummy variables to dictionary.\n",
    "        for dummy_variable in dummy_df.columns:\n",
    "            data_type_dict[dummy_variable] = 'nominal'\n",
    " \n",
    "        #Add dummy variables to main df.\n",
    "        data=data.drop(variable, axis=1)\n",
    "        data=data.join(dummy_df)\n",
    " \n",
    "    return [data, data_type_dict]"
   ]
  },
  {
   "cell_type": "code",
   "execution_count": 53,
   "metadata": {
    "collapsed": false
   },
   "outputs": [],
   "source": [
    "dummied_df = dummy_variables(df3, data_type_dict)[0]"
   ]
  },
  {
   "cell_type": "code",
   "execution_count": 58,
   "metadata": {
    "collapsed": false
   },
   "outputs": [
    {
     "data": {
      "text/plain": [
       "['_projectid',\n",
       " '_teacher_acctid',\n",
       " '_schoolid',\n",
       " 'school_state',\n",
       " 'school_charter',\n",
       " 'school_magnet',\n",
       " 'school_year_round',\n",
       " 'school_nlns',\n",
       " 'school_kipp',\n",
       " 'school_charter_ready_promise',\n",
       " 'teacher_teach_for_america',\n",
       " 'teacher_ny_teaching_fellow',\n",
       " 'vendor_shipping_charges',\n",
       " 'total_price_excluding_optional_support',\n",
       " 'total_price_including_optional_support',\n",
       " 'students_reached',\n",
       " 'date_posted',\n",
       " 'RESP',\n",
       " 'month',\n",
       " 'quarter',\n",
       " 'year',\n",
       " 'time_to_expire',\n",
       " 'optional_support',\n",
       " 'school_previous_projects',\n",
       " 'teacher_previous_projects',\n",
       " 'log_price_including',\n",
       " 'log_price_excluding',\n",
       " 'sqrt_students_reached',\n",
       " 'price_per_student',\n",
       " 'total_state_donors',\n",
       " 'total_state_projects',\n",
       " 'state_avg_donors',\n",
       " 'primary_focus_area_Applied Learning',\n",
       " 'primary_focus_area_Health & Sports',\n",
       " 'primary_focus_area_History & Civics',\n",
       " 'primary_focus_area_Literacy & Language',\n",
       " 'primary_focus_area_Math & Science',\n",
       " 'primary_focus_area_Music & The Arts',\n",
       " 'primary_focus_area_Special Needs',\n",
       " 'primary_focus_subject_Applied Sciences',\n",
       " 'primary_focus_subject_Character Education',\n",
       " 'primary_focus_subject_Civics & Government',\n",
       " 'primary_focus_subject_College & Career Prep',\n",
       " 'primary_focus_subject_Community Service',\n",
       " 'primary_focus_subject_ESL',\n",
       " 'primary_focus_subject_Early Development',\n",
       " 'primary_focus_subject_Economics',\n",
       " 'primary_focus_subject_Environmental Science',\n",
       " 'primary_focus_subject_Extracurricular',\n",
       " 'primary_focus_subject_Financial Literacy',\n",
       " 'primary_focus_subject_Foreign Languages',\n",
       " 'primary_focus_subject_Gym & Fitness',\n",
       " 'primary_focus_subject_Health & Life Science',\n",
       " 'primary_focus_subject_Health & Wellness',\n",
       " 'primary_focus_subject_History & Geography',\n",
       " 'primary_focus_subject_Literacy',\n",
       " 'primary_focus_subject_Literature & Writing',\n",
       " 'primary_focus_subject_Mathematics',\n",
       " 'primary_focus_subject_Music',\n",
       " 'primary_focus_subject_Nutrition',\n",
       " 'primary_focus_subject_Other',\n",
       " 'primary_focus_subject_Parent Involvement',\n",
       " 'primary_focus_subject_Performing Arts',\n",
       " 'primary_focus_subject_Social Sciences',\n",
       " 'primary_focus_subject_Special Needs',\n",
       " 'primary_focus_subject_Team Sports',\n",
       " 'primary_focus_subject_Visual Arts',\n",
       " 'poverty_level_high poverty',\n",
       " 'poverty_level_highest poverty',\n",
       " 'poverty_level_low poverty',\n",
       " 'poverty_level_moderate poverty',\n",
       " 'price_ex_bins_(181.9, 242.32]',\n",
       " 'price_ex_bins_(242.32, 305.2]',\n",
       " 'price_ex_bins_(305.2, 362.46]',\n",
       " 'price_ex_bins_(362.46, 420.41]',\n",
       " 'price_ex_bins_(420.41, 468.37]',\n",
       " 'price_ex_bins_(468.37, 555.49]',\n",
       " 'price_ex_bins_(555.49, 719.724]',\n",
       " 'price_ex_bins_(719.724, 931.317]',\n",
       " 'price_ex_bins_(931.317, 10250018]',\n",
       " 'price_ex_bins_[1, 181.9]',\n",
       " 'student_bins_(121, 201]',\n",
       " 'student_bins_(19, 21]',\n",
       " 'student_bins_(201, 1000000]',\n",
       " 'student_bins_(21, 25]',\n",
       " 'student_bins_(25, 27]',\n",
       " 'student_bins_(27, 31]',\n",
       " 'student_bins_(31, 49]',\n",
       " 'student_bins_(49, 76]',\n",
       " 'student_bins_(76, 121]',\n",
       " 'student_bins_[1, 19]',\n",
       " 'price_in_bins_(1108.544, 12500021.73]',\n",
       " 'price_in_bins_(215.38, 287.52]',\n",
       " 'price_in_bins_(287.52, 362]',\n",
       " 'price_in_bins_(362, 429.93]',\n",
       " 'price_in_bins_(429.93, 498.14]',\n",
       " 'price_in_bins_(498.14, 555.74]',\n",
       " 'price_in_bins_(555.74, 658.68]',\n",
       " 'price_in_bins_(658.68, 853.16]',\n",
       " 'price_in_bins_(853.16, 1108.544]',\n",
       " 'price_in_bins_[1, 215.38]',\n",
       " 'price_per_student_bins_(1.25, 2.225]',\n",
       " 'price_per_student_bins_(10.507, 12.124]',\n",
       " 'price_per_student_bins_(12.124, 13.896]',\n",
       " 'price_per_student_bins_(13.896, 15.85]',\n",
       " 'price_per_student_bins_(15.85, 17.944]',\n",
       " 'price_per_student_bins_(17.944, 20.315]',\n",
       " 'price_per_student_bins_(2.225, 3.231]',\n",
       " 'price_per_student_bins_(20.315, 23.0419]',\n",
       " 'price_per_student_bins_(23.0419, 26.608]',\n",
       " 'price_per_student_bins_(26.608, 31.846]',\n",
       " 'price_per_student_bins_(3.231, 4.312]',\n",
       " 'price_per_student_bins_(31.846, 40.279]',\n",
       " 'price_per_student_bins_(4.312, 5.492]',\n",
       " 'price_per_student_bins_(40.279, 60.0729]',\n",
       " 'price_per_student_bins_(5.492, 6.69]',\n",
       " 'price_per_student_bins_(6.69, 7.829]',\n",
       " 'price_per_student_bins_(60.0729, 6250010.865]',\n",
       " 'price_per_student_bins_(7.829, 9.0912]',\n",
       " 'price_per_student_bins_(9.0912, 10.507]',\n",
       " 'price_per_student_bins_[0.00076, 1.25]',\n",
       " 'grade_level_Grades 3-5',\n",
       " 'grade_level_Grades 6-8',\n",
       " 'grade_level_Grades 9-12',\n",
       " 'grade_level_Grades PreK-2',\n",
       " 'school_metro_rural',\n",
       " 'school_metro_suburban',\n",
       " 'school_metro_urban',\n",
       " 'teacher_gender_Female',\n",
       " 'teacher_gender_Male',\n",
       " 'resource_type_Books',\n",
       " 'resource_type_Other',\n",
       " 'resource_type_Supplies',\n",
       " 'resource_type_Technology',\n",
       " 'resource_type_Trips',\n",
       " 'resource_type_Visitors']"
      ]
     },
     "execution_count": 58,
     "metadata": {},
     "output_type": "execute_result"
    }
   ],
   "source": [
    "dummied_df.columns.values.tolist()"
   ]
  },
  {
   "cell_type": "code",
   "execution_count": null,
   "metadata": {
    "collapsed": true
   },
   "outputs": [],
   "source": []
  }
 ],
 "metadata": {
  "kernelspec": {
   "display_name": "Python 2",
   "language": "python",
   "name": "python2"
  },
  "language_info": {
   "codemirror_mode": {
    "name": "ipython",
    "version": 2
   },
   "file_extension": ".py",
   "mimetype": "text/x-python",
   "name": "python",
   "nbconvert_exporter": "python",
   "pygments_lexer": "ipython2",
   "version": "2.7.10"
  }
 },
 "nbformat": 4,
 "nbformat_minor": 0
}
