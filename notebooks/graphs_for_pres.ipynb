{
 "cells": [
  {
   "cell_type": "code",
   "execution_count": 1,
   "metadata": {
    "collapsed": true
   },
   "outputs": [],
   "source": [
    "from __future__ import division\n",
    "import pandas as pd\n",
    "import pickle\n",
    "import matplotlib.pyplot as plt\n",
    "%matplotlib inline\n",
    "pd.options.mode.chained_assignment = None"
   ]
  },
  {
   "cell_type": "code",
   "execution_count": 2,
   "metadata": {
    "collapsed": true
   },
   "outputs": [],
   "source": [
    "df = pd.DataFrame(pickle.load(open('../data_files/clean_recent_data.pkl', 'rb')))"
   ]
  },
  {
   "cell_type": "code",
   "execution_count": null,
   "metadata": {
    "collapsed": true
   },
   "outputs": [],
   "source": [
    "\tfirst_name\tpre_score\tmid_score\tpost_score\n",
    "0\tJason\t4\t25\t5\n",
    "1\tMolly\t24\t94\t43\n",
    "2\tTina\t31\t57\t23\n",
    "3\tJake\t2\t62\t23\n",
    "4\tAmy\t3\t70\t51"
   ]
  },
  {
   "cell_type": "code",
   "execution_count": 3,
   "metadata": {
    "collapsed": false
   },
   "outputs": [
    {
     "data": {
      "text/plain": [
       "['_projectid',\n",
       " '_teacher_acctid',\n",
       " '_schoolid',\n",
       " 'school_state',\n",
       " 'school_metro',\n",
       " 'school_charter',\n",
       " 'school_magnet',\n",
       " 'school_year_round',\n",
       " 'school_nlns',\n",
       " 'school_kipp',\n",
       " 'school_charter_ready_promise',\n",
       " 'teacher_teach_for_america',\n",
       " 'teacher_ny_teaching_fellow',\n",
       " 'primary_focus_subject',\n",
       " 'primary_focus_area',\n",
       " 'resource_type',\n",
       " 'poverty_level',\n",
       " 'grade_level',\n",
       " 'vendor_shipping_charges',\n",
       " 'total_price_excluding_optional_support',\n",
       " 'total_price_including_optional_support',\n",
       " 'students_reached',\n",
       " 'date_posted',\n",
       " 'RESP',\n",
       " 'month',\n",
       " 'quarter',\n",
       " 'year',\n",
       " 'time_to_expire',\n",
       " 'optional_support',\n",
       " 'school_previous_projects',\n",
       " 'teacher_previous_projects',\n",
       " 'log_price_including',\n",
       " 'log_price_excluding',\n",
       " 'sqrt_students_reached',\n",
       " 'student_bins',\n",
       " 'price_in_bins',\n",
       " 'price_ex_bins',\n",
       " 'teacher_gender',\n",
       " 'price_per_student',\n",
       " 'price_per_student_bins',\n",
       " 'total_state_donors',\n",
       " 'total_state_projects',\n",
       " 'state_avg_donors']"
      ]
     },
     "execution_count": 3,
     "metadata": {},
     "output_type": "execute_result"
    }
   ],
   "source": [
    "features = df.columns.values.tolist()\n",
    "features"
   ]
  },
  {
   "cell_type": "code",
   "execution_count": 36,
   "metadata": {
    "collapsed": false
   },
   "outputs": [
    {
     "data": {
      "text/html": [
       "<div>\n",
       "<table border=\"1\" class=\"dataframe\">\n",
       "  <thead>\n",
       "    <tr style=\"text-align: right;\">\n",
       "      <th></th>\n",
       "      <th>sum</th>\n",
       "      <th>key</th>\n",
       "      <th>count</th>\n",
       "      <th>per</th>\n",
       "    </tr>\n",
       "  </thead>\n",
       "  <tbody>\n",
       "    <tr>\n",
       "      <th>0</th>\n",
       "      <td>17368</td>\n",
       "      <td>0</td>\n",
       "      <td>19154</td>\n",
       "      <td>0.906756</td>\n",
       "    </tr>\n",
       "    <tr>\n",
       "      <th>1</th>\n",
       "      <td>16109</td>\n",
       "      <td>1</td>\n",
       "      <td>18669</td>\n",
       "      <td>0.862874</td>\n",
       "    </tr>\n",
       "    <tr>\n",
       "      <th>2</th>\n",
       "      <td>15354</td>\n",
       "      <td>2</td>\n",
       "      <td>18659</td>\n",
       "      <td>0.822874</td>\n",
       "    </tr>\n",
       "    <tr>\n",
       "      <th>3</th>\n",
       "      <td>15182</td>\n",
       "      <td>3</td>\n",
       "      <td>19342</td>\n",
       "      <td>0.784924</td>\n",
       "    </tr>\n",
       "    <tr>\n",
       "      <th>4</th>\n",
       "      <td>13489</td>\n",
       "      <td>4</td>\n",
       "      <td>18015</td>\n",
       "      <td>0.748765</td>\n",
       "    </tr>\n",
       "    <tr>\n",
       "      <th>5</th>\n",
       "      <td>11663</td>\n",
       "      <td>5</td>\n",
       "      <td>16165</td>\n",
       "      <td>0.721497</td>\n",
       "    </tr>\n",
       "    <tr>\n",
       "      <th>6</th>\n",
       "      <td>11271</td>\n",
       "      <td>6</td>\n",
       "      <td>15759</td>\n",
       "      <td>0.715210</td>\n",
       "    </tr>\n",
       "    <tr>\n",
       "      <th>7</th>\n",
       "      <td>13042</td>\n",
       "      <td>7</td>\n",
       "      <td>19536</td>\n",
       "      <td>0.667588</td>\n",
       "    </tr>\n",
       "    <tr>\n",
       "      <th>8</th>\n",
       "      <td>11084</td>\n",
       "      <td>8</td>\n",
       "      <td>17460</td>\n",
       "      <td>0.634822</td>\n",
       "    </tr>\n",
       "    <tr>\n",
       "      <th>9</th>\n",
       "      <td>20884</td>\n",
       "      <td>9</td>\n",
       "      <td>42263</td>\n",
       "      <td>0.494144</td>\n",
       "    </tr>\n",
       "  </tbody>\n",
       "</table>\n",
       "</div>"
      ],
      "text/plain": [
       "     sum  key  count       per\n",
       "0  17368    0  19154  0.906756\n",
       "1  16109    1  18669  0.862874\n",
       "2  15354    2  18659  0.822874\n",
       "3  15182    3  19342  0.784924\n",
       "4  13489    4  18015  0.748765\n",
       "5  11663    5  16165  0.721497\n",
       "6  11271    6  15759  0.715210\n",
       "7  13042    7  19536  0.667588\n",
       "8  11084    8  17460  0.634822\n",
       "9  20884    9  42263  0.494144"
      ]
     },
     "execution_count": 36,
     "metadata": {},
     "output_type": "execute_result"
    }
   ],
   "source": [
    "groups = df.RESP.groupby(df.price_in_bins)\n",
    "sum_df = pd.DataFrame(groups.sum())\n",
    "sum_df['key'] = sum_df.index\n",
    "count_df = pd.DataFrame(groups.count())\n",
    "count_df['key'] = count_df.index\n",
    "count_df\n",
    "merged = pd.merge(sum_df, count_df, on='key')\n",
    "merged.columns = ['sum', 'key', 'count']\n",
    "merged['per'] = merged['sum']/merged['count']\n",
    "merged"
   ]
  },
  {
   "cell_type": "code",
   "execution_count": 48,
   "metadata": {
    "collapsed": false
   },
   "outputs": [
    {
     "data": {
      "image/png": "[encoded data removed]",
      "text/plain": [
       "<matplotlib.figure.Figure at 0x10e0b8fd0>"
      ]
     },
     "metadata": {},
     "output_type": "display_data"
    }
   ],
   "source": [
    "import seaborn as sns\n",
    "sns.barplot(x = merged.key, y = merged.per, color = '#f36f21' )\n",
    "ax = plt.gca()\n",
    "plt.xlabel(\"Price bin\")\n",
    "plt.ylabel(\"Percentage\")\n",
    "plt.title(\"Percent of successful projects by price bin\")\n",
    "plt.show()"
   ]
  },
  {
   "cell_type": "code",
   "execution_count": 53,
   "metadata": {
    "collapsed": false
   },
   "outputs": [
    {
     "data": {
      "text/html": [
       "<div>\n",
       "<table border=\"1\" class=\"dataframe\">\n",
       "  <thead>\n",
       "    <tr style=\"text-align: right;\">\n",
       "      <th></th>\n",
       "      <th>sum</th>\n",
       "      <th>key</th>\n",
       "      <th>count</th>\n",
       "      <th>per</th>\n",
       "    </tr>\n",
       "  </thead>\n",
       "  <tbody>\n",
       "    <tr>\n",
       "      <th>0</th>\n",
       "      <td>15262</td>\n",
       "      <td>0</td>\n",
       "      <td>19286</td>\n",
       "      <td>0.791351</td>\n",
       "    </tr>\n",
       "    <tr>\n",
       "      <th>1</th>\n",
       "      <td>14150</td>\n",
       "      <td>1</td>\n",
       "      <td>18530</td>\n",
       "      <td>0.763627</td>\n",
       "    </tr>\n",
       "    <tr>\n",
       "      <th>2</th>\n",
       "      <td>13839</td>\n",
       "      <td>2</td>\n",
       "      <td>18004</td>\n",
       "      <td>0.768663</td>\n",
       "    </tr>\n",
       "    <tr>\n",
       "      <th>3</th>\n",
       "      <td>15194</td>\n",
       "      <td>3</td>\n",
       "      <td>19088</td>\n",
       "      <td>0.795997</td>\n",
       "    </tr>\n",
       "    <tr>\n",
       "      <th>4</th>\n",
       "      <td>14802</td>\n",
       "      <td>4</td>\n",
       "      <td>19447</td>\n",
       "      <td>0.761146</td>\n",
       "    </tr>\n",
       "    <tr>\n",
       "      <th>5</th>\n",
       "      <td>15120</td>\n",
       "      <td>5</td>\n",
       "      <td>20368</td>\n",
       "      <td>0.742341</td>\n",
       "    </tr>\n",
       "    <tr>\n",
       "      <th>6</th>\n",
       "      <td>14152</td>\n",
       "      <td>6</td>\n",
       "      <td>19808</td>\n",
       "      <td>0.714459</td>\n",
       "    </tr>\n",
       "    <tr>\n",
       "      <th>7</th>\n",
       "      <td>13133</td>\n",
       "      <td>7</td>\n",
       "      <td>19188</td>\n",
       "      <td>0.684438</td>\n",
       "    </tr>\n",
       "    <tr>\n",
       "      <th>8</th>\n",
       "      <td>13780</td>\n",
       "      <td>8</td>\n",
       "      <td>21028</td>\n",
       "      <td>0.655317</td>\n",
       "    </tr>\n",
       "    <tr>\n",
       "      <th>9</th>\n",
       "      <td>16014</td>\n",
       "      <td>9</td>\n",
       "      <td>30275</td>\n",
       "      <td>0.528951</td>\n",
       "    </tr>\n",
       "  </tbody>\n",
       "</table>\n",
       "</div>"
      ],
      "text/plain": [
       "     sum  key  count       per\n",
       "0  15262    0  19286  0.791351\n",
       "1  14150    1  18530  0.763627\n",
       "2  13839    2  18004  0.768663\n",
       "3  15194    3  19088  0.795997\n",
       "4  14802    4  19447  0.761146\n",
       "5  15120    5  20368  0.742341\n",
       "6  14152    6  19808  0.714459\n",
       "7  13133    7  19188  0.684438\n",
       "8  13780    8  21028  0.655317\n",
       "9  16014    9  30275  0.528951"
      ]
     },
     "execution_count": 53,
     "metadata": {},
     "output_type": "execute_result"
    }
   ],
   "source": [
    "groups = df.RESP.groupby(df.price_per_student_bins)\n",
    "sum_df = pd.DataFrame(groups.sum())\n",
    "sum_df['key'] = sum_df.index\n",
    "count_df = pd.DataFrame(groups.count())\n",
    "count_df['key'] = count_df.index\n",
    "count_df\n",
    "merged = pd.merge(sum_df, count_df, on='key')\n",
    "merged.columns = ['sum', 'key', 'count']\n",
    "merged['per'] = merged['sum']/merged['count']\n",
    "merged"
   ]
  },
  {
   "cell_type": "code",
   "execution_count": 54,
   "metadata": {
    "collapsed": false
   },
   "outputs": [
    {
     "data": {
      "image/png": "[encoded data removed]",
      "text/plain": [
       "<matplotlib.figure.Figure at 0x109648b50>"
      ]
     },
     "metadata": {},
     "output_type": "display_data"
    }
   ],
   "source": [
    "sns.barplot(x = merged.key, y = merged.per, color = '#f36f21' )\n",
    "ax = plt.gca()\n",
    "plt.xlabel(\"Students reached bin\")\n",
    "plt.ylabel(\"Percentage\")\n",
    "plt.title(\"Percent of successful projects by number of students reached\")\n",
    "plt.show()"
   ]
  },
  {
   "cell_type": "code",
   "execution_count": 63,
   "metadata": {
    "collapsed": false
   },
   "outputs": [
    {
     "data": {
      "text/html": [
       "<div>\n",
       "<table border=\"1\" class=\"dataframe\">\n",
       "  <thead>\n",
       "    <tr style=\"text-align: right;\">\n",
       "      <th></th>\n",
       "      <th>sum</th>\n",
       "      <th>key</th>\n",
       "      <th>count</th>\n",
       "      <th>per</th>\n",
       "    </tr>\n",
       "  </thead>\n",
       "  <tbody>\n",
       "    <tr>\n",
       "      <th>0</th>\n",
       "      <td>18097</td>\n",
       "      <td>3</td>\n",
       "      <td>26122</td>\n",
       "      <td>0.692788</td>\n",
       "    </tr>\n",
       "    <tr>\n",
       "      <th>1</th>\n",
       "      <td>48195</td>\n",
       "      <td>4</td>\n",
       "      <td>67912</td>\n",
       "      <td>0.709668</td>\n",
       "    </tr>\n",
       "    <tr>\n",
       "      <th>2</th>\n",
       "      <td>66167</td>\n",
       "      <td>5</td>\n",
       "      <td>93718</td>\n",
       "      <td>0.706022</td>\n",
       "    </tr>\n",
       "    <tr>\n",
       "      <th>3</th>\n",
       "      <td>9322</td>\n",
       "      <td>6</td>\n",
       "      <td>12523</td>\n",
       "      <td>0.744390</td>\n",
       "    </tr>\n",
       "    <tr>\n",
       "      <th>4</th>\n",
       "      <td>3665</td>\n",
       "      <td>7</td>\n",
       "      <td>4747</td>\n",
       "      <td>0.772067</td>\n",
       "    </tr>\n",
       "  </tbody>\n",
       "</table>\n",
       "</div>"
      ],
      "text/plain": [
       "     sum  key  count       per\n",
       "0  18097    3  26122  0.692788\n",
       "1  48195    4  67912  0.709668\n",
       "2  66167    5  93718  0.706022\n",
       "3   9322    6  12523  0.744390\n",
       "4   3665    7   4747  0.772067"
      ]
     },
     "execution_count": 63,
     "metadata": {},
     "output_type": "execute_result"
    }
   ],
   "source": [
    "df.state_avg_donors = df.state_avg_donors.map(lambda x: round(x, 0))\n",
    "groups = df.RESP.groupby(df.state_avg_donors)\n",
    "sum_df = pd.DataFrame(groups.sum())\n",
    "sum_df['key'] = sum_df.index\n",
    "count_df = pd.DataFrame(groups.count())\n",
    "count_df['key'] = count_df.index\n",
    "count_df\n",
    "merged = pd.merge(sum_df, count_df, on='key')\n",
    "merged.columns = ['sum', 'key', 'count']\n",
    "merged['per'] = merged['sum']/merged['count']\n",
    "merged"
   ]
  },
  {
   "cell_type": "code",
   "execution_count": 64,
   "metadata": {
    "collapsed": false
   },
   "outputs": [
    {
     "data": {
      "image/png": "[encoded data removed]",
      "text/plain": [
       "<matplotlib.figure.Figure at 0x10c6984d0>"
      ]
     },
     "metadata": {},
     "output_type": "display_data"
    }
   ],
   "source": [
    "sns.barplot(x = merged.key, y = merged.per, color = '#f36f21' )\n",
    "ax = plt.gca()\n",
    "plt.xlabel(\"Students reached bin\")\n",
    "plt.ylabel(\"Percentage\")\n",
    "plt.title(\"Percent of successful projects by number of students reached\")\n",
    "plt.xticks(rotation=45)\n",
    "plt.show()"
   ]
  },
  {
   "cell_type": "code",
   "execution_count": null,
   "metadata": {
    "collapsed": true
   },
   "outputs": [],
   "source": []
  }
 ],
 "metadata": {
  "kernelspec": {
   "display_name": "Python 2",
   "language": "python",
   "name": "python2"
  },
  "language_info": {
   "codemirror_mode": {
    "name": "ipython",
    "version": 2
   },
   "file_extension": ".py",
   "mimetype": "text/x-python",
   "name": "python",
   "nbconvert_exporter": "python",
   "pygments_lexer": "ipython2",
   "version": "2.7.10"
  }
 },
 "nbformat": 4,
 "nbformat_minor": 0
}
