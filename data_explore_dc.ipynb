{
 "cells": [
  {
   "cell_type": "code",
   "execution_count": 3,
   "metadata": {
    "collapsed": false
   },
   "outputs": [],
   "source": [
    "import pandas as pd\n",
    "import numpy as np\n",
    "import matplotlib.pyplot as plt\n",
    "import seaborn as sns\n",
    "from patsy import dmatrices\n",
    "pd.options.mode.chained_assignment = None\n",
    "\n",
    "from sklearn import preprocessing\n",
    "\n",
    "from sklearn.metrics import accuracy_score, roc_curve, auc, classification_report, confusion_matrix\n",
    "\n",
    "from sklearn.cross_validation import cross_val_score, train_test_split\n",
    "from sklearn.learning_curve import learning_curve\n",
    "from sklearn.grid_search import GridSearchCV\n",
    "\n",
    "from sklearn.linear_model import LogisticRegression\n",
    "from sklearn.neighbors import KNeighborsClassifier\n",
    "from sklearn.naive_bayes import GaussianNB\n",
    "from sklearn.svm import SVC\n",
    "from sklearn.tree import DecisionTreeClassifier\n",
    "from sklearn.ensemble import RandomForestClassifier\n",
    "from __future__ import division\n",
    "import pprint\n",
    "\n",
    "import dateutil\n",
    "%matplotlib inline"
   ]
  },
  {
   "cell_type": "code",
   "execution_count": 4,
   "metadata": {
    "collapsed": false
   },
   "outputs": [],
   "source": [
    "df = pd.read_csv(\"~/donorschoose/opendata_projects.csv\")"
   ]
  },
  {
   "cell_type": "code",
   "execution_count": 5,
   "metadata": {
    "collapsed": false
   },
   "outputs": [
    {
     "data": {
      "text/html": [
       "<div>\n",
       "<table border=\"1\" class=\"dataframe\">\n",
       "  <thead>\n",
       "    <tr style=\"text-align: right;\">\n",
       "      <th></th>\n",
       "      <th>_projectid</th>\n",
       "      <th>_teacher_acctid</th>\n",
       "      <th>_schoolid</th>\n",
       "      <th>school_ncesid</th>\n",
       "      <th>school_latitude</th>\n",
       "      <th>school_longitude</th>\n",
       "      <th>school_city</th>\n",
       "      <th>school_state</th>\n",
       "      <th>school_zip</th>\n",
       "      <th>school_metro</th>\n",
       "      <th>...</th>\n",
       "      <th>students_reached</th>\n",
       "      <th>total_donations</th>\n",
       "      <th>num_donors</th>\n",
       "      <th>eligible_double_your_impact_match</th>\n",
       "      <th>eligible_almost_home_match</th>\n",
       "      <th>funding_status</th>\n",
       "      <th>date_posted</th>\n",
       "      <th>date_completed</th>\n",
       "      <th>date_thank_you_packet_mailed</th>\n",
       "      <th>date_expiration</th>\n",
       "    </tr>\n",
       "  </thead>\n",
       "  <tbody>\n",
       "    <tr>\n",
       "      <th>0</th>\n",
       "      <td>7342bd01a2a7725ce033a179d22e382d</td>\n",
       "      <td>5c43ef5eac0f5857c266baa1ccfa3d3f</td>\n",
       "      <td>9e72d6f2f1e9367b578b6479aa5852b7</td>\n",
       "      <td>3.600097e+11</td>\n",
       "      <td>40.688454</td>\n",
       "      <td>-73.910432</td>\n",
       "      <td>Brooklyn</td>\n",
       "      <td>NY</td>\n",
       "      <td>11207</td>\n",
       "      <td>urban</td>\n",
       "      <td>...</td>\n",
       "      <td>0</td>\n",
       "      <td>251</td>\n",
       "      <td>1</td>\n",
       "      <td>f</td>\n",
       "      <td>f</td>\n",
       "      <td>completed</td>\n",
       "      <td>2002-09-13 00:00:00</td>\n",
       "      <td>2002-09-23 00:00:00</td>\n",
       "      <td>2003-01-27 00:00:00</td>\n",
       "      <td>2003-12-31 00:00:00</td>\n",
       "    </tr>\n",
       "    <tr>\n",
       "      <th>1</th>\n",
       "      <td>b56b502d25666e29550d107bf7e17910</td>\n",
       "      <td>57426949b47700ccf62098e1e9b0220c</td>\n",
       "      <td>4a06a328dd87bd29892d73310052f45f</td>\n",
       "      <td>3.600077e+11</td>\n",
       "      <td>40.770233</td>\n",
       "      <td>-73.950760</td>\n",
       "      <td>New York</td>\n",
       "      <td>NY</td>\n",
       "      <td>10075</td>\n",
       "      <td>NaN</td>\n",
       "      <td>...</td>\n",
       "      <td>0</td>\n",
       "      <td>125</td>\n",
       "      <td>1</td>\n",
       "      <td>f</td>\n",
       "      <td>f</td>\n",
       "      <td>completed</td>\n",
       "      <td>2002-09-16 00:00:00</td>\n",
       "      <td>2002-09-19 00:00:00</td>\n",
       "      <td>2002-12-19 00:00:00</td>\n",
       "      <td>2003-12-31 00:00:00</td>\n",
       "    </tr>\n",
       "    <tr>\n",
       "      <th>2</th>\n",
       "      <td>3a88a47f97bd0c9b7c6a745bcd831ce3</td>\n",
       "      <td>7a20087fac86232883537cab45c0a6c9</td>\n",
       "      <td>66d08b506d2f3c30dec9e6fdb03cc279</td>\n",
       "      <td>3.600122e+11</td>\n",
       "      <td>40.729763</td>\n",
       "      <td>-73.816925</td>\n",
       "      <td>Flushing</td>\n",
       "      <td>NY</td>\n",
       "      <td>11367</td>\n",
       "      <td>urban</td>\n",
       "      <td>...</td>\n",
       "      <td>0</td>\n",
       "      <td>2110</td>\n",
       "      <td>1</td>\n",
       "      <td>f</td>\n",
       "      <td>f</td>\n",
       "      <td>completed</td>\n",
       "      <td>2002-09-17 00:00:00</td>\n",
       "      <td>2003-03-17 00:00:00</td>\n",
       "      <td>2004-06-14 00:00:00</td>\n",
       "      <td>2003-12-31 00:00:00</td>\n",
       "    </tr>\n",
       "    <tr>\n",
       "      <th>3</th>\n",
       "      <td>0b8a4f8eb1822ab6dd5cd9ffb918ece3</td>\n",
       "      <td>e5d28482308e2007992ae8b358b31bce</td>\n",
       "      <td>9bc7d4d92193a453669b6e2a56128e87</td>\n",
       "      <td>3.600077e+11</td>\n",
       "      <td>40.701778</td>\n",
       "      <td>-74.011840</td>\n",
       "      <td>New York</td>\n",
       "      <td>NY</td>\n",
       "      <td>10004</td>\n",
       "      <td>urban</td>\n",
       "      <td>...</td>\n",
       "      <td>0</td>\n",
       "      <td>1241</td>\n",
       "      <td>1</td>\n",
       "      <td>f</td>\n",
       "      <td>f</td>\n",
       "      <td>completed</td>\n",
       "      <td>2002-09-17 00:00:00</td>\n",
       "      <td>2002-09-17 00:00:00</td>\n",
       "      <td>2003-12-18 00:00:00</td>\n",
       "      <td>2003-12-31 00:00:00</td>\n",
       "    </tr>\n",
       "    <tr>\n",
       "      <th>4</th>\n",
       "      <td>45235cb116b3b35cd86d1c3a63961d7d</td>\n",
       "      <td>214d75bd0e6ce3e7085278ddd8f26daa</td>\n",
       "      <td>f7f12dee0009e6f9afa301bcca9d5070</td>\n",
       "      <td>NaN</td>\n",
       "      <td>40.815018</td>\n",
       "      <td>-73.856094</td>\n",
       "      <td>Bronx</td>\n",
       "      <td>NY</td>\n",
       "      <td>10473</td>\n",
       "      <td>urban</td>\n",
       "      <td>...</td>\n",
       "      <td>0</td>\n",
       "      <td>83</td>\n",
       "      <td>1</td>\n",
       "      <td>f</td>\n",
       "      <td>f</td>\n",
       "      <td>completed</td>\n",
       "      <td>2002-09-17 00:00:00</td>\n",
       "      <td>2002-09-17 00:00:00</td>\n",
       "      <td>2004-01-28 00:00:00</td>\n",
       "      <td>2003-12-31 00:00:00</td>\n",
       "    </tr>\n",
       "  </tbody>\n",
       "</table>\n",
       "<p>5 rows × 44 columns</p>\n",
       "</div>"
      ],
      "text/plain": [
       "                         _projectid                   _teacher_acctid  \\\n",
       "0  7342bd01a2a7725ce033a179d22e382d  5c43ef5eac0f5857c266baa1ccfa3d3f   \n",
       "1  b56b502d25666e29550d107bf7e17910  57426949b47700ccf62098e1e9b0220c   \n",
       "2  3a88a47f97bd0c9b7c6a745bcd831ce3  7a20087fac86232883537cab45c0a6c9   \n",
       "3  0b8a4f8eb1822ab6dd5cd9ffb918ece3  e5d28482308e2007992ae8b358b31bce   \n",
       "4  45235cb116b3b35cd86d1c3a63961d7d  214d75bd0e6ce3e7085278ddd8f26daa   \n",
       "\n",
       "                          _schoolid  school_ncesid  school_latitude  \\\n",
       "0  9e72d6f2f1e9367b578b6479aa5852b7   3.600097e+11        40.688454   \n",
       "1  4a06a328dd87bd29892d73310052f45f   3.600077e+11        40.770233   \n",
       "2  66d08b506d2f3c30dec9e6fdb03cc279   3.600122e+11        40.729763   \n",
       "3  9bc7d4d92193a453669b6e2a56128e87   3.600077e+11        40.701778   \n",
       "4  f7f12dee0009e6f9afa301bcca9d5070            NaN        40.815018   \n",
       "\n",
       "   school_longitude school_city school_state  school_zip school_metro  \\\n",
       "0        -73.910432    Brooklyn           NY       11207        urban   \n",
       "1        -73.950760    New York           NY       10075          NaN   \n",
       "2        -73.816925    Flushing           NY       11367        urban   \n",
       "3        -74.011840    New York           NY       10004        urban   \n",
       "4        -73.856094       Bronx           NY       10473        urban   \n",
       "\n",
       "          ...          students_reached total_donations num_donors  \\\n",
       "0         ...                         0             251          1   \n",
       "1         ...                         0             125          1   \n",
       "2         ...                         0            2110          1   \n",
       "3         ...                         0            1241          1   \n",
       "4         ...                         0              83          1   \n",
       "\n",
       "  eligible_double_your_impact_match eligible_almost_home_match funding_status  \\\n",
       "0                                 f                          f      completed   \n",
       "1                                 f                          f      completed   \n",
       "2                                 f                          f      completed   \n",
       "3                                 f                          f      completed   \n",
       "4                                 f                          f      completed   \n",
       "\n",
       "           date_posted       date_completed date_thank_you_packet_mailed  \\\n",
       "0  2002-09-13 00:00:00  2002-09-23 00:00:00          2003-01-27 00:00:00   \n",
       "1  2002-09-16 00:00:00  2002-09-19 00:00:00          2002-12-19 00:00:00   \n",
       "2  2002-09-17 00:00:00  2003-03-17 00:00:00          2004-06-14 00:00:00   \n",
       "3  2002-09-17 00:00:00  2002-09-17 00:00:00          2003-12-18 00:00:00   \n",
       "4  2002-09-17 00:00:00  2002-09-17 00:00:00          2004-01-28 00:00:00   \n",
       "\n",
       "       date_expiration  \n",
       "0  2003-12-31 00:00:00  \n",
       "1  2003-12-31 00:00:00  \n",
       "2  2003-12-31 00:00:00  \n",
       "3  2003-12-31 00:00:00  \n",
       "4  2003-12-31 00:00:00  \n",
       "\n",
       "[5 rows x 44 columns]"
      ]
     },
     "execution_count": 5,
     "metadata": {},
     "output_type": "execute_result"
    }
   ],
   "source": [
    "df.head()"
   ]
  },
  {
   "cell_type": "code",
   "execution_count": 26,
   "metadata": {
    "collapsed": false
   },
   "outputs": [
    {
     "data": {
      "text/plain": [
       "24559"
      ]
     },
     "execution_count": 26,
     "metadata": {},
     "output_type": "execute_result"
    }
   ],
   "source": [
    "#Create holdout set with projects that are still running\n",
    "holdout = df[df['funding_status'] == \"live\"]\n",
    "len(holdout)"
   ]
  },
  {
   "cell_type": "code",
   "execution_count": 27,
   "metadata": {
    "collapsed": false
   },
   "outputs": [
    {
     "name": "stdout",
     "output_type": "stream",
     "text": [
      "Percent remaining: 96.28\n"
     ]
    }
   ],
   "source": [
    "#Throw out reallocated and hold out set\n",
    "df2 = df[df['funding_status'] != \"reallocated\"]\n",
    "df2 = df2[df2['funding_status'] != \"live\"]\n",
    "per_remaining = len(df2)/len(df)\n",
    "print \"Percent remaining: %0.2f\" %(per_remaining*100)"
   ]
  },
  {
   "cell_type": "code",
   "execution_count": 28,
   "metadata": {
    "collapsed": false
   },
   "outputs": [],
   "source": [
    "df2['RESP'] = 0\n",
    "df2['RESP'][df2['funding_status'] == 'completed'] = 1"
   ]
  },
  {
   "cell_type": "code",
   "execution_count": 29,
   "metadata": {
    "collapsed": false
   },
   "outputs": [
    {
     "name": "stdout",
     "output_type": "stream",
     "text": [
      "['_projectid', '_teacher_acctid', '_schoolid', 'school_ncesid', 'school_latitude', 'school_longitude', 'school_city', 'school_state', 'school_zip', 'school_metro', 'school_district', 'school_county', 'school_charter', 'school_magnet', 'school_year_round', 'school_nlns', 'school_kipp', 'school_charter_ready_promise', 'teacher_prefix', 'teacher_teach_for_america', 'teacher_ny_teaching_fellow', 'primary_focus_subject', 'primary_focus_area', 'secondary_focus_subject', 'secondary_focus_area', 'resource_type', 'poverty_level', 'grade_level', 'vendor_shipping_charges', 'sales_tax', 'payment_processing_charges', 'fulfillment_labor_materials', 'total_price_excluding_optional_support', 'total_price_including_optional_support', 'students_reached', 'total_donations', 'num_donors', 'eligible_double_your_impact_match', 'eligible_almost_home_match', 'funding_status', 'date_posted', 'date_completed', 'date_thank_you_packet_mailed', 'date_expiration', 'RESP']\n"
     ]
    }
   ],
   "source": [
    "features = df2.columns.values.tolist()\n",
    "print features"
   ]
  },
  {
   "cell_type": "code",
   "execution_count": 30,
   "metadata": {
    "collapsed": false
   },
   "outputs": [
    {
     "name": "stdout",
     "output_type": "stream",
     "text": [
      "school_ncesid has 5.57 percent missing values\n",
      "school_zip has 0.00 percent missing values\n",
      "school_metro has 11.23 percent missing values\n",
      "school_district has 0.04 percent missing values\n",
      "school_county has 0.00 percent missing values\n",
      "teacher_prefix has 0.00 percent missing values\n",
      "primary_focus_subject has 0.00 percent missing values\n",
      "primary_focus_area has 0.00 percent missing values\n",
      "secondary_focus_subject has 30.71 percent missing values\n",
      "secondary_focus_area has 30.71 percent missing values\n",
      "resource_type has 0.01 percent missing values\n",
      "grade_level has 0.00 percent missing values\n",
      "vendor_shipping_charges has 4.11 percent missing values\n",
      "sales_tax has 4.11 percent missing values\n",
      "payment_processing_charges has 4.11 percent missing values\n",
      "fulfillment_labor_materials has 4.11 percent missing values\n",
      "students_reached has 0.02 percent missing values\n",
      "date_completed has 29.95 percent missing values\n",
      "date_thank_you_packet_mailed has 35.63 percent missing values\n",
      "date_expiration has 0.02 percent missing values\n"
     ]
    }
   ],
   "source": [
    "for feature in features:\n",
    "    per = (len(df2[feature]) - df2[feature].count())/len(df2[feature])\n",
    "    if per > 0.0:\n",
    "        print feature, \"has %0.2f percent missing values\" % (per*100)"
   ]
  },
  {
   "cell_type": "code",
   "execution_count": 65,
   "metadata": {
    "collapsed": false
   },
   "outputs": [],
   "source": [
    "#TO DO\n",
    "#general:    \n",
    "    #decide if i should only use recent projects\n",
    "    #for each column, check missing or 0 values, and decide how to handle\n",
    "    #fill in urban by creating list of zips with missing and looking up\n",
    "    #create script to clean data\n",
    "    #pickle final data\n",
    "    #create script to run modeling \n",
    "#Check distros and decide if valuable:\n",
    "    #students reached = how many 0's, than how many nans?\n",
    "    #school types"
   ]
  },
  {
   "cell_type": "code",
   "execution_count": 32,
   "metadata": {
    "collapsed": false
   },
   "outputs": [],
   "source": [
    "df2['date_posted'] = df2['date_posted'].map(lambda x: pd.to_datetime(x))\n",
    "df2['date_expiration'] = df2['date_expiration'].map(lambda x: pd.to_datetime(x))\n",
    "df2['date_completed'] = df2['date_completed'].map(lambda x: pd.to_datetime(x))\n",
    "df2['date_thank_you_packet_mailed'] = df2['date_thank_you_packet_mailed'].map(lambda x: pd.to_datetime(x))"
   ]
  },
  {
   "cell_type": "code",
   "execution_count": 33,
   "metadata": {
    "collapsed": false
   },
   "outputs": [],
   "source": [
    "df2['time_to_expire'] = df2.date_expiration - df2.date_posted"
   ]
  },
  {
   "cell_type": "code",
   "execution_count": 55,
   "metadata": {
    "collapsed": false
   },
   "outputs": [],
   "source": [
    "df2['amount_optional_support'] = df2.total_price_including_optional_support - df2.total_price_excluding_optional_support \n",
    "df2['optional_support'] = 0\n",
    "df2['optional_support'][df2['amount_optional_support'] > 0] = 1\n",
    "df2['per_optional_support'] = df2.amount_optional_support/df2.total_price_excluding_optional_support"
   ]
  },
  {
   "cell_type": "code",
   "execution_count": 66,
   "metadata": {
    "collapsed": true
   },
   "outputs": [],
   "source": [
    "df2['month'] = df2.date_posted.map(lambda x: x.month)\n",
    "df2['quarter'] = df2.date_posted.map(lambda x: x.quarter)"
   ]
  },
  {
   "cell_type": "code",
   "execution_count": 100,
   "metadata": {
    "collapsed": true
   },
   "outputs": [],
   "source": [
    "df2 = df2.sort(\"date_posted\")"
   ]
  },
  {
   "cell_type": "code",
   "execution_count": 105,
   "metadata": {
    "collapsed": false
   },
   "outputs": [],
   "source": [
    "df2['teacher_previous_success'] = df2.groupby('_teacher_acctid')['RESP'].cumsum()\n",
    "df2['school_previous_success'] = df2.groupby('_schoolid')['RESP'].cumsum()"
   ]
  },
  {
   "cell_type": "code",
   "execution_count": 109,
   "metadata": {
    "collapsed": false
   },
   "outputs": [],
   "source": [
    "df2['teacher_previous_projects'] = df2.groupby('_teacher_acctid').cumcount()+1\n",
    "df2['school_previous_projects'] = df2.groupby('_schoolid').cumcount()+1"
   ]
  },
  {
   "cell_type": "code",
   "execution_count": 110,
   "metadata": {
    "collapsed": true
   },
   "outputs": [],
   "source": [
    "df2['teacher_per_success'] = df2['teacher_previous_success']/df2['teacher_previous_projects']\n",
    "df2['school_per_success'] = df2['school_previous_success']/df2['school_previous_projects']"
   ]
  },
  {
   "cell_type": "code",
   "execution_count": 111,
   "metadata": {
    "collapsed": false
   },
   "outputs": [
    {
     "data": {
      "text/html": [
       "<div>\n",
       "<table border=\"1\" class=\"dataframe\">\n",
       "  <thead>\n",
       "    <tr style=\"text-align: right;\">\n",
       "      <th></th>\n",
       "      <th>_projectid</th>\n",
       "      <th>_teacher_acctid</th>\n",
       "      <th>_schoolid</th>\n",
       "      <th>school_ncesid</th>\n",
       "      <th>school_latitude</th>\n",
       "      <th>school_longitude</th>\n",
       "      <th>school_city</th>\n",
       "      <th>school_state</th>\n",
       "      <th>school_zip</th>\n",
       "      <th>school_metro</th>\n",
       "      <th>...</th>\n",
       "      <th>optional_support</th>\n",
       "      <th>per_optional_support</th>\n",
       "      <th>month</th>\n",
       "      <th>quarter</th>\n",
       "      <th>teacher_previous_success</th>\n",
       "      <th>school_previous_success</th>\n",
       "      <th>teacher_previous_projects</th>\n",
       "      <th>school_previous_projects</th>\n",
       "      <th>teacher_per_success</th>\n",
       "      <th>school_per_success</th>\n",
       "    </tr>\n",
       "  </thead>\n",
       "  <tbody>\n",
       "    <tr>\n",
       "      <th>0</th>\n",
       "      <td>7342bd01a2a7725ce033a179d22e382d</td>\n",
       "      <td>5c43ef5eac0f5857c266baa1ccfa3d3f</td>\n",
       "      <td>9e72d6f2f1e9367b578b6479aa5852b7</td>\n",
       "      <td>3.600097e+11</td>\n",
       "      <td>40.688454</td>\n",
       "      <td>-73.910432</td>\n",
       "      <td>Brooklyn</td>\n",
       "      <td>NY</td>\n",
       "      <td>11207</td>\n",
       "      <td>urban</td>\n",
       "      <td>...</td>\n",
       "      <td>1</td>\n",
       "      <td>0.219520</td>\n",
       "      <td>9</td>\n",
       "      <td>3</td>\n",
       "      <td>1</td>\n",
       "      <td>1</td>\n",
       "      <td>1</td>\n",
       "      <td>1</td>\n",
       "      <td>1</td>\n",
       "      <td>1</td>\n",
       "    </tr>\n",
       "    <tr>\n",
       "      <th>1</th>\n",
       "      <td>b56b502d25666e29550d107bf7e17910</td>\n",
       "      <td>57426949b47700ccf62098e1e9b0220c</td>\n",
       "      <td>4a06a328dd87bd29892d73310052f45f</td>\n",
       "      <td>3.600077e+11</td>\n",
       "      <td>40.770233</td>\n",
       "      <td>-73.950760</td>\n",
       "      <td>New York</td>\n",
       "      <td>NY</td>\n",
       "      <td>10075</td>\n",
       "      <td>NaN</td>\n",
       "      <td>...</td>\n",
       "      <td>1</td>\n",
       "      <td>0.219520</td>\n",
       "      <td>9</td>\n",
       "      <td>3</td>\n",
       "      <td>1</td>\n",
       "      <td>1</td>\n",
       "      <td>1</td>\n",
       "      <td>1</td>\n",
       "      <td>1</td>\n",
       "      <td>1</td>\n",
       "    </tr>\n",
       "    <tr>\n",
       "      <th>30</th>\n",
       "      <td>7844d34a23f05c7836c1ea64355cd851</td>\n",
       "      <td>982142b095e3df0ddebc12384e464b49</td>\n",
       "      <td>cabcc3ed826056c3969a8a99c5aeeaf6</td>\n",
       "      <td>3.600085e+11</td>\n",
       "      <td>40.829224</td>\n",
       "      <td>-73.856899</td>\n",
       "      <td>Bronx</td>\n",
       "      <td>NY</td>\n",
       "      <td>10472</td>\n",
       "      <td>urban</td>\n",
       "      <td>...</td>\n",
       "      <td>1</td>\n",
       "      <td>0.219514</td>\n",
       "      <td>9</td>\n",
       "      <td>3</td>\n",
       "      <td>1</td>\n",
       "      <td>1</td>\n",
       "      <td>1</td>\n",
       "      <td>1</td>\n",
       "      <td>1</td>\n",
       "      <td>1</td>\n",
       "    </tr>\n",
       "    <tr>\n",
       "      <th>29</th>\n",
       "      <td>d25a7dd645bdfb4d702f177cef5e0d8e</td>\n",
       "      <td>0c2d4535f03991165dc72092840d672b</td>\n",
       "      <td>cabcc3ed826056c3969a8a99c5aeeaf6</td>\n",
       "      <td>3.600085e+11</td>\n",
       "      <td>40.829224</td>\n",
       "      <td>-73.856899</td>\n",
       "      <td>Bronx</td>\n",
       "      <td>NY</td>\n",
       "      <td>10472</td>\n",
       "      <td>urban</td>\n",
       "      <td>...</td>\n",
       "      <td>1</td>\n",
       "      <td>0.219516</td>\n",
       "      <td>9</td>\n",
       "      <td>3</td>\n",
       "      <td>1</td>\n",
       "      <td>2</td>\n",
       "      <td>1</td>\n",
       "      <td>2</td>\n",
       "      <td>1</td>\n",
       "      <td>1</td>\n",
       "    </tr>\n",
       "    <tr>\n",
       "      <th>28</th>\n",
       "      <td>77e3b131ee90f011f937110e8e8e9cf4</td>\n",
       "      <td>b218f64064e174657336d229e2231962</td>\n",
       "      <td>52835c082f36edc0c90aff0c11a2e9b3</td>\n",
       "      <td>3.600079e+11</td>\n",
       "      <td>40.792306</td>\n",
       "      <td>-73.952037</td>\n",
       "      <td>New York</td>\n",
       "      <td>NY</td>\n",
       "      <td>10029</td>\n",
       "      <td>urban</td>\n",
       "      <td>...</td>\n",
       "      <td>1</td>\n",
       "      <td>0.219512</td>\n",
       "      <td>9</td>\n",
       "      <td>3</td>\n",
       "      <td>1</td>\n",
       "      <td>1</td>\n",
       "      <td>1</td>\n",
       "      <td>1</td>\n",
       "      <td>1</td>\n",
       "      <td>1</td>\n",
       "    </tr>\n",
       "  </tbody>\n",
       "</table>\n",
       "<p>5 rows × 57 columns</p>\n",
       "</div>"
      ],
      "text/plain": [
       "                          _projectid                   _teacher_acctid  \\\n",
       "0   7342bd01a2a7725ce033a179d22e382d  5c43ef5eac0f5857c266baa1ccfa3d3f   \n",
       "1   b56b502d25666e29550d107bf7e17910  57426949b47700ccf62098e1e9b0220c   \n",
       "30  7844d34a23f05c7836c1ea64355cd851  982142b095e3df0ddebc12384e464b49   \n",
       "29  d25a7dd645bdfb4d702f177cef5e0d8e  0c2d4535f03991165dc72092840d672b   \n",
       "28  77e3b131ee90f011f937110e8e8e9cf4  b218f64064e174657336d229e2231962   \n",
       "\n",
       "                           _schoolid  school_ncesid  school_latitude  \\\n",
       "0   9e72d6f2f1e9367b578b6479aa5852b7   3.600097e+11        40.688454   \n",
       "1   4a06a328dd87bd29892d73310052f45f   3.600077e+11        40.770233   \n",
       "30  cabcc3ed826056c3969a8a99c5aeeaf6   3.600085e+11        40.829224   \n",
       "29  cabcc3ed826056c3969a8a99c5aeeaf6   3.600085e+11        40.829224   \n",
       "28  52835c082f36edc0c90aff0c11a2e9b3   3.600079e+11        40.792306   \n",
       "\n",
       "    school_longitude school_city school_state  school_zip school_metro  \\\n",
       "0         -73.910432    Brooklyn           NY       11207        urban   \n",
       "1         -73.950760    New York           NY       10075          NaN   \n",
       "30        -73.856899       Bronx           NY       10472        urban   \n",
       "29        -73.856899       Bronx           NY       10472        urban   \n",
       "28        -73.952037    New York           NY       10029        urban   \n",
       "\n",
       "          ...         optional_support per_optional_support month quarter  \\\n",
       "0         ...                        1             0.219520     9       3   \n",
       "1         ...                        1             0.219520     9       3   \n",
       "30        ...                        1             0.219514     9       3   \n",
       "29        ...                        1             0.219516     9       3   \n",
       "28        ...                        1             0.219512     9       3   \n",
       "\n",
       "   teacher_previous_success school_previous_success teacher_previous_projects  \\\n",
       "0                         1                       1                         1   \n",
       "1                         1                       1                         1   \n",
       "30                        1                       1                         1   \n",
       "29                        1                       2                         1   \n",
       "28                        1                       1                         1   \n",
       "\n",
       "   school_previous_projects teacher_per_success school_per_success  \n",
       "0                         1                   1                  1  \n",
       "1                         1                   1                  1  \n",
       "30                        1                   1                  1  \n",
       "29                        2                   1                  1  \n",
       "28                        1                   1                  1  \n",
       "\n",
       "[5 rows x 57 columns]"
      ]
     },
     "execution_count": 111,
     "metadata": {},
     "output_type": "execute_result"
    }
   ],
   "source": [
    "df2.head()"
   ]
  },
  {
   "cell_type": "code",
   "execution_count": 117,
   "metadata": {
    "collapsed": false
   },
   "outputs": [
    {
     "data": {
      "text/plain": [
       "['_projectid',\n",
       " '_teacher_acctid',\n",
       " '_schoolid',\n",
       " 'school_ncesid',\n",
       " 'school_latitude',\n",
       " 'school_longitude',\n",
       " 'school_city',\n",
       " 'school_state',\n",
       " 'school_zip',\n",
       " 'school_metro',\n",
       " 'school_district',\n",
       " 'school_county',\n",
       " 'school_charter',\n",
       " 'school_magnet',\n",
       " 'school_year_round',\n",
       " 'school_nlns',\n",
       " 'school_kipp',\n",
       " 'school_charter_ready_promise',\n",
       " 'teacher_prefix',\n",
       " 'teacher_teach_for_america',\n",
       " 'teacher_ny_teaching_fellow',\n",
       " 'primary_focus_subject',\n",
       " 'primary_focus_area',\n",
       " 'secondary_focus_subject',\n",
       " 'secondary_focus_area',\n",
       " 'resource_type',\n",
       " 'poverty_level',\n",
       " 'grade_level',\n",
       " 'vendor_shipping_charges',\n",
       " 'sales_tax',\n",
       " 'payment_processing_charges',\n",
       " 'fulfillment_labor_materials',\n",
       " 'total_price_excluding_optional_support',\n",
       " 'total_price_including_optional_support',\n",
       " 'students_reached',\n",
       " 'total_donations',\n",
       " 'num_donors',\n",
       " 'eligible_double_your_impact_match',\n",
       " 'eligible_almost_home_match',\n",
       " 'funding_status',\n",
       " 'date_posted',\n",
       " 'date_completed',\n",
       " 'date_thank_you_packet_mailed',\n",
       " 'date_expiration',\n",
       " 'RESP',\n",
       " 'time_to_expire',\n",
       " 'amount_optional_support',\n",
       " 'optional_support',\n",
       " 'per_optional_support',\n",
       " 'month',\n",
       " 'quarter',\n",
       " 'teacher_previous_success',\n",
       " 'school_previous_success',\n",
       " 'teacher_previous_projects',\n",
       " 'school_previous_projects',\n",
       " 'teacher_per_success',\n",
       " 'school_per_success']"
      ]
     },
     "execution_count": 117,
     "metadata": {},
     "output_type": "execute_result"
    }
   ],
   "source": [
    "df2.columns.values.tolist()"
   ]
  },
  {
   "cell_type": "code",
   "execution_count": null,
   "metadata": {
    "collapsed": false
   },
   "outputs": [],
   "source": [
    "'school_state+school_charter+school_magnet+ school_year_round+ school_nlns+ school_kipp+ school_charter_ready_promise+ teacher_prefix+teacher_teach_for_america+teacher_ny_teaching_fellow+primary_focus_subject+primary_focus_area+resource_type+poverty_level+grade_level+total_price_including_optional_support+students_reached+optional_support+quarter+teacher_per_success+school_per_success'"
   ]
  },
  {
   "cell_type": "code",
   "execution_count": null,
   "metadata": {
    "collapsed": false
   },
   "outputs": [],
   "source": []
  },
  {
   "cell_type": "code",
   "execution_count": 11,
   "metadata": {
    "collapsed": false
   },
   "outputs": [],
   "source": []
  },
  {
   "cell_type": "code",
   "execution_count": null,
   "metadata": {
    "collapsed": false
   },
   "outputs": [],
   "source": []
  },
  {
   "cell_type": "code",
   "execution_count": null,
   "metadata": {
    "collapsed": false
   },
   "outputs": [],
   "source": []
  },
  {
   "cell_type": "code",
   "execution_count": 14,
   "metadata": {
    "collapsed": true
   },
   "outputs": [],
   "source": []
  },
  {
   "cell_type": "code",
   "execution_count": 118,
   "metadata": {
    "collapsed": true
   },
   "outputs": [],
   "source": [
    "y, X = dmatrices('RESP ~ school_state+school_charter+school_magnet+ school_year_round+ school_nlns+ school_kipp+ school_charter_ready_promise+ teacher_prefix+teacher_teach_for_america+teacher_ny_teaching_fellow+primary_focus_subject+primary_focus_area+resource_type+poverty_level+grade_level+total_price_including_optional_support+students_reached+optional_support+quarter+teacher_per_success+school_per_success', data=df2, return_type='dataframe')\n",
    "\n",
    "y = np.ravel(y)\n",
    "\n",
    "x_train, x_test, y_train, y_test = train_test_split(\n",
    "    X, y, test_size=0.25, random_state=7)\n",
    "\n",
    "std_scale = preprocessing.StandardScaler().fit(x_train)\n",
    "x_train = std_scale.transform(x_train)\n",
    "x_test = std_scale.transform(x_test)"
   ]
  },
  {
   "cell_type": "code",
   "execution_count": 119,
   "metadata": {
    "collapsed": false
   },
   "outputs": [
    {
     "name": "stdout",
     "output_type": "stream",
     "text": [
      "Baseline = 0.70\n"
     ]
    }
   ],
   "source": [
    "def always_complete(x):\n",
    "    return [1] * len(x)\n",
    "y_pred = always_complete(X)\n",
    "\n",
    "print \"Baseline = %0.2f\" % accuracy_score(y, y_pred) "
   ]
  },
  {
   "cell_type": "code",
   "execution_count": null,
   "metadata": {
    "collapsed": false
   },
   "outputs": [
    {
     "name": "stdout",
     "output_type": "stream",
     "text": [
      "LogisticRegression             0.8818\n",
      "KNeighborsClassifier           0.7208\n",
      "GaussianNB                     0.5394"
     ]
    }
   ],
   "source": [
    "names, accs = [], []\n",
    "for algorithm in (LogisticRegression, \n",
    "                 KNeighborsClassifier, \n",
    "                 GaussianNB,\n",
    "                 SVC,\n",
    "                 DecisionTreeClassifier, \n",
    "                 RandomForestClassifier):\n",
    "    accuracy = np.mean(cross_val_score(algorithm(), X, y, cv = 10))\n",
    "    print '%-30s %0.4f' % (algorithm.__name__, accuracy)\n",
    "    names.append(algorithm.__name__)\n",
    "    accs.append(accuracy)"
   ]
  },
  {
   "cell_type": "code",
   "execution_count": null,
   "metadata": {
    "collapsed": false
   },
   "outputs": [],
   "source": []
  },
  {
   "cell_type": "code",
   "execution_count": null,
   "metadata": {
    "collapsed": true
   },
   "outputs": [],
   "source": []
  }
 ],
 "metadata": {
  "kernelspec": {
   "display_name": "Python 2",
   "language": "python",
   "name": "python2"
  },
  "language_info": {
   "codemirror_mode": {
    "name": "ipython",
    "version": 2
   },
   "file_extension": ".py",
   "mimetype": "text/x-python",
   "name": "python",
   "nbconvert_exporter": "python",
   "pygments_lexer": "ipython2",
   "version": "2.7.10"
  }
 },
 "nbformat": 4,
 "nbformat_minor": 0
}
