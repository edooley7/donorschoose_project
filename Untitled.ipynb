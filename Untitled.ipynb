{
 "cells": [
  {
   "cell_type": "code",
   "execution_count": 20,
   "metadata": {
    "collapsed": false
   },
   "outputs": [],
   "source": [
    "import pandas as pd\n",
    "import numpy as np\n",
    "import matplotlib.pyplot as plt\n",
    "import seaborn as sns\n",
    "from patsy import dmatrices\n",
    "pd.options.mode.chained_assignment = None\n",
    "\n",
    "from sklearn import preprocessing\n",
    "\n",
    "from sklearn.metrics import accuracy_score, roc_curve, auc, classification_report, confusion_matrix\n",
    "\n",
    "from sklearn.cross_validation import cross_val_score, train_test_split\n",
    "from sklearn.learning_curve import learning_curve\n",
    "from sklearn.grid_search import GridSearchCV\n",
    "\n",
    "from sklearn.linear_model import LogisticRegression\n",
    "from sklearn.neighbors import KNeighborsClassifier\n",
    "from sklearn.naive_bayes import GaussianNB\n",
    "from sklearn.svm import SVC\n",
    "from sklearn.tree import DecisionTreeClassifier\n",
    "from sklearn.ensemble import RandomForestClassifier\n",
    "from __future__ import division\n",
    "import pprint\n",
    "\n",
    "import dateutil\n",
    "%matplotlib inline"
   ]
  },
  {
   "cell_type": "code",
   "execution_count": 2,
   "metadata": {
    "collapsed": false
   },
   "outputs": [],
   "source": [
    "df = pd.read_csv(\"~/donorschoose/opendata_projects.csv\")"
   ]
  },
  {
   "cell_type": "code",
   "execution_count": 3,
   "metadata": {
    "collapsed": false
   },
   "outputs": [
    {
     "data": {
      "text/html": [
       "<div>\n",
       "<table border=\"1\" class=\"dataframe\">\n",
       "  <thead>\n",
       "    <tr style=\"text-align: right;\">\n",
       "      <th></th>\n",
       "      <th>_projectid</th>\n",
       "      <th>_teacher_acctid</th>\n",
       "      <th>_schoolid</th>\n",
       "      <th>school_ncesid</th>\n",
       "      <th>school_latitude</th>\n",
       "      <th>school_longitude</th>\n",
       "      <th>school_city</th>\n",
       "      <th>school_state</th>\n",
       "      <th>school_zip</th>\n",
       "      <th>school_metro</th>\n",
       "      <th>...</th>\n",
       "      <th>students_reached</th>\n",
       "      <th>total_donations</th>\n",
       "      <th>num_donors</th>\n",
       "      <th>eligible_double_your_impact_match</th>\n",
       "      <th>eligible_almost_home_match</th>\n",
       "      <th>funding_status</th>\n",
       "      <th>date_posted</th>\n",
       "      <th>date_completed</th>\n",
       "      <th>date_thank_you_packet_mailed</th>\n",
       "      <th>date_expiration</th>\n",
       "    </tr>\n",
       "  </thead>\n",
       "  <tbody>\n",
       "    <tr>\n",
       "      <th>0</th>\n",
       "      <td>7342bd01a2a7725ce033a179d22e382d</td>\n",
       "      <td>5c43ef5eac0f5857c266baa1ccfa3d3f</td>\n",
       "      <td>9e72d6f2f1e9367b578b6479aa5852b7</td>\n",
       "      <td>3.600097e+11</td>\n",
       "      <td>40.688454</td>\n",
       "      <td>-73.910432</td>\n",
       "      <td>Brooklyn</td>\n",
       "      <td>NY</td>\n",
       "      <td>11207</td>\n",
       "      <td>urban</td>\n",
       "      <td>...</td>\n",
       "      <td>0</td>\n",
       "      <td>251</td>\n",
       "      <td>1</td>\n",
       "      <td>f</td>\n",
       "      <td>f</td>\n",
       "      <td>completed</td>\n",
       "      <td>2002-09-13 00:00:00</td>\n",
       "      <td>2002-09-23 00:00:00</td>\n",
       "      <td>2003-01-27 00:00:00</td>\n",
       "      <td>2003-12-31 00:00:00</td>\n",
       "    </tr>\n",
       "    <tr>\n",
       "      <th>1</th>\n",
       "      <td>b56b502d25666e29550d107bf7e17910</td>\n",
       "      <td>57426949b47700ccf62098e1e9b0220c</td>\n",
       "      <td>4a06a328dd87bd29892d73310052f45f</td>\n",
       "      <td>3.600077e+11</td>\n",
       "      <td>40.770233</td>\n",
       "      <td>-73.950760</td>\n",
       "      <td>New York</td>\n",
       "      <td>NY</td>\n",
       "      <td>10075</td>\n",
       "      <td>NaN</td>\n",
       "      <td>...</td>\n",
       "      <td>0</td>\n",
       "      <td>125</td>\n",
       "      <td>1</td>\n",
       "      <td>f</td>\n",
       "      <td>f</td>\n",
       "      <td>completed</td>\n",
       "      <td>2002-09-16 00:00:00</td>\n",
       "      <td>2002-09-19 00:00:00</td>\n",
       "      <td>2002-12-19 00:00:00</td>\n",
       "      <td>2003-12-31 00:00:00</td>\n",
       "    </tr>\n",
       "    <tr>\n",
       "      <th>2</th>\n",
       "      <td>3a88a47f97bd0c9b7c6a745bcd831ce3</td>\n",
       "      <td>7a20087fac86232883537cab45c0a6c9</td>\n",
       "      <td>66d08b506d2f3c30dec9e6fdb03cc279</td>\n",
       "      <td>3.600122e+11</td>\n",
       "      <td>40.729763</td>\n",
       "      <td>-73.816925</td>\n",
       "      <td>Flushing</td>\n",
       "      <td>NY</td>\n",
       "      <td>11367</td>\n",
       "      <td>urban</td>\n",
       "      <td>...</td>\n",
       "      <td>0</td>\n",
       "      <td>2110</td>\n",
       "      <td>1</td>\n",
       "      <td>f</td>\n",
       "      <td>f</td>\n",
       "      <td>completed</td>\n",
       "      <td>2002-09-17 00:00:00</td>\n",
       "      <td>2003-03-17 00:00:00</td>\n",
       "      <td>2004-06-14 00:00:00</td>\n",
       "      <td>2003-12-31 00:00:00</td>\n",
       "    </tr>\n",
       "    <tr>\n",
       "      <th>3</th>\n",
       "      <td>0b8a4f8eb1822ab6dd5cd9ffb918ece3</td>\n",
       "      <td>e5d28482308e2007992ae8b358b31bce</td>\n",
       "      <td>9bc7d4d92193a453669b6e2a56128e87</td>\n",
       "      <td>3.600077e+11</td>\n",
       "      <td>40.701778</td>\n",
       "      <td>-74.011840</td>\n",
       "      <td>New York</td>\n",
       "      <td>NY</td>\n",
       "      <td>10004</td>\n",
       "      <td>urban</td>\n",
       "      <td>...</td>\n",
       "      <td>0</td>\n",
       "      <td>1241</td>\n",
       "      <td>1</td>\n",
       "      <td>f</td>\n",
       "      <td>f</td>\n",
       "      <td>completed</td>\n",
       "      <td>2002-09-17 00:00:00</td>\n",
       "      <td>2002-09-17 00:00:00</td>\n",
       "      <td>2003-12-18 00:00:00</td>\n",
       "      <td>2003-12-31 00:00:00</td>\n",
       "    </tr>\n",
       "    <tr>\n",
       "      <th>4</th>\n",
       "      <td>45235cb116b3b35cd86d1c3a63961d7d</td>\n",
       "      <td>214d75bd0e6ce3e7085278ddd8f26daa</td>\n",
       "      <td>f7f12dee0009e6f9afa301bcca9d5070</td>\n",
       "      <td>NaN</td>\n",
       "      <td>40.815018</td>\n",
       "      <td>-73.856094</td>\n",
       "      <td>Bronx</td>\n",
       "      <td>NY</td>\n",
       "      <td>10473</td>\n",
       "      <td>urban</td>\n",
       "      <td>...</td>\n",
       "      <td>0</td>\n",
       "      <td>83</td>\n",
       "      <td>1</td>\n",
       "      <td>f</td>\n",
       "      <td>f</td>\n",
       "      <td>completed</td>\n",
       "      <td>2002-09-17 00:00:00</td>\n",
       "      <td>2002-09-17 00:00:00</td>\n",
       "      <td>2004-01-28 00:00:00</td>\n",
       "      <td>2003-12-31 00:00:00</td>\n",
       "    </tr>\n",
       "  </tbody>\n",
       "</table>\n",
       "<p>5 rows × 44 columns</p>\n",
       "</div>"
      ],
      "text/plain": [
       "                         _projectid                   _teacher_acctid  \\\n",
       "0  7342bd01a2a7725ce033a179d22e382d  5c43ef5eac0f5857c266baa1ccfa3d3f   \n",
       "1  b56b502d25666e29550d107bf7e17910  57426949b47700ccf62098e1e9b0220c   \n",
       "2  3a88a47f97bd0c9b7c6a745bcd831ce3  7a20087fac86232883537cab45c0a6c9   \n",
       "3  0b8a4f8eb1822ab6dd5cd9ffb918ece3  e5d28482308e2007992ae8b358b31bce   \n",
       "4  45235cb116b3b35cd86d1c3a63961d7d  214d75bd0e6ce3e7085278ddd8f26daa   \n",
       "\n",
       "                          _schoolid  school_ncesid  school_latitude  \\\n",
       "0  9e72d6f2f1e9367b578b6479aa5852b7   3.600097e+11        40.688454   \n",
       "1  4a06a328dd87bd29892d73310052f45f   3.600077e+11        40.770233   \n",
       "2  66d08b506d2f3c30dec9e6fdb03cc279   3.600122e+11        40.729763   \n",
       "3  9bc7d4d92193a453669b6e2a56128e87   3.600077e+11        40.701778   \n",
       "4  f7f12dee0009e6f9afa301bcca9d5070            NaN        40.815018   \n",
       "\n",
       "   school_longitude school_city school_state  school_zip school_metro  \\\n",
       "0        -73.910432    Brooklyn           NY       11207        urban   \n",
       "1        -73.950760    New York           NY       10075          NaN   \n",
       "2        -73.816925    Flushing           NY       11367        urban   \n",
       "3        -74.011840    New York           NY       10004        urban   \n",
       "4        -73.856094       Bronx           NY       10473        urban   \n",
       "\n",
       "          ...          students_reached total_donations num_donors  \\\n",
       "0         ...                         0             251          1   \n",
       "1         ...                         0             125          1   \n",
       "2         ...                         0            2110          1   \n",
       "3         ...                         0            1241          1   \n",
       "4         ...                         0              83          1   \n",
       "\n",
       "  eligible_double_your_impact_match eligible_almost_home_match funding_status  \\\n",
       "0                                 f                          f      completed   \n",
       "1                                 f                          f      completed   \n",
       "2                                 f                          f      completed   \n",
       "3                                 f                          f      completed   \n",
       "4                                 f                          f      completed   \n",
       "\n",
       "           date_posted       date_completed date_thank_you_packet_mailed  \\\n",
       "0  2002-09-13 00:00:00  2002-09-23 00:00:00          2003-01-27 00:00:00   \n",
       "1  2002-09-16 00:00:00  2002-09-19 00:00:00          2002-12-19 00:00:00   \n",
       "2  2002-09-17 00:00:00  2003-03-17 00:00:00          2004-06-14 00:00:00   \n",
       "3  2002-09-17 00:00:00  2002-09-17 00:00:00          2003-12-18 00:00:00   \n",
       "4  2002-09-17 00:00:00  2002-09-17 00:00:00          2004-01-28 00:00:00   \n",
       "\n",
       "       date_expiration  \n",
       "0  2003-12-31 00:00:00  \n",
       "1  2003-12-31 00:00:00  \n",
       "2  2003-12-31 00:00:00  \n",
       "3  2003-12-31 00:00:00  \n",
       "4  2003-12-31 00:00:00  \n",
       "\n",
       "[5 rows x 44 columns]"
      ]
     },
     "execution_count": 3,
     "metadata": {},
     "output_type": "execute_result"
    }
   ],
   "source": [
    "df.head()"
   ]
  },
  {
   "cell_type": "code",
   "execution_count": 43,
   "metadata": {
    "collapsed": false
   },
   "outputs": [
    {
     "data": {
      "text/plain": [
       "24559"
      ]
     },
     "execution_count": 43,
     "metadata": {},
     "output_type": "execute_result"
    }
   ],
   "source": [
    "#Create holdout set with projects that are still running\n",
    "holdout = df[df['funding_status'] == \"live\"]\n",
    "len(holdout)"
   ]
  },
  {
   "cell_type": "code",
   "execution_count": 48,
   "metadata": {
    "collapsed": false
   },
   "outputs": [
    {
     "name": "stdout",
     "output_type": "stream",
     "text": [
      "Percent remaining: 96.28\n"
     ]
    }
   ],
   "source": [
    "#Throw out reallocated and hold out set\n",
    "df2 = df[df['funding_status'] != \"reallocated\"]\n",
    "df2 = df2[df2['funding_status'] != \"live\"]\n",
    "per_remaining = len(df2)/len(df)\n",
    "print \"Percent remaining: %0.2f\" %(per_remaining*100)"
   ]
  },
  {
   "cell_type": "code",
   "execution_count": 51,
   "metadata": {
    "collapsed": false
   },
   "outputs": [],
   "source": [
    "df2['RESP'] = 0\n",
    "df2['RESP'][df2['funding_status'] == 'completed'] = 1"
   ]
  },
  {
   "cell_type": "code",
   "execution_count": 52,
   "metadata": {
    "collapsed": false
   },
   "outputs": [
    {
     "name": "stdout",
     "output_type": "stream",
     "text": [
      "['_projectid', '_teacher_acctid', '_schoolid', 'school_ncesid', 'school_latitude', 'school_longitude', 'school_city', 'school_state', 'school_zip', 'school_metro', 'school_district', 'school_county', 'school_charter', 'school_magnet', 'school_year_round', 'school_nlns', 'school_kipp', 'school_charter_ready_promise', 'teacher_prefix', 'teacher_teach_for_america', 'teacher_ny_teaching_fellow', 'primary_focus_subject', 'primary_focus_area', 'secondary_focus_subject', 'secondary_focus_area', 'resource_type', 'poverty_level', 'grade_level', 'vendor_shipping_charges', 'sales_tax', 'payment_processing_charges', 'fulfillment_labor_materials', 'total_price_excluding_optional_support', 'total_price_including_optional_support', 'students_reached', 'total_donations', 'num_donors', 'eligible_double_your_impact_match', 'eligible_almost_home_match', 'funding_status', 'date_posted', 'date_completed', 'date_thank_you_packet_mailed', 'date_expiration', 'RESP']\n"
     ]
    }
   ],
   "source": [
    "features = df2.columns.values.tolist()\n",
    "print features"
   ]
  },
  {
   "cell_type": "code",
   "execution_count": 53,
   "metadata": {
    "collapsed": false
   },
   "outputs": [
    {
     "name": "stdout",
     "output_type": "stream",
     "text": [
      "school_ncesid has 5.57 percent missing values\n",
      "school_zip has 0.00 percent missing values\n",
      "school_metro has 11.23 percent missing values\n",
      "school_district has 0.04 percent missing values\n",
      "school_county has 0.00 percent missing values\n",
      "teacher_prefix has 0.00 percent missing values\n",
      "primary_focus_subject has 0.00 percent missing values\n",
      "primary_focus_area has 0.00 percent missing values\n",
      "secondary_focus_subject has 30.71 percent missing values\n",
      "secondary_focus_area has 30.71 percent missing values\n",
      "resource_type has 0.01 percent missing values\n",
      "grade_level has 0.00 percent missing values\n",
      "vendor_shipping_charges has 4.11 percent missing values\n",
      "sales_tax has 4.11 percent missing values\n",
      "payment_processing_charges has 4.11 percent missing values\n",
      "fulfillment_labor_materials has 4.11 percent missing values\n",
      "students_reached has 0.02 percent missing values\n",
      "date_completed has 29.95 percent missing values\n",
      "date_thank_you_packet_mailed has 35.63 percent missing values\n",
      "date_expiration has 0.02 percent missing values\n"
     ]
    }
   ],
   "source": [
    "for feature in features:\n",
    "    per = (len(df2[feature]) - df2[feature].count())/len(df2[feature])\n",
    "    if per > 0.0:\n",
    "        print feature, \"has %0.2f percent missing values\" % (per*100)"
   ]
  },
  {
   "cell_type": "code",
   "execution_count": 35,
   "metadata": {
    "collapsed": false
   },
   "outputs": [],
   "source": [
    "#TO DO\n",
    "#general:    \n",
    "    #transform dates to datetime objects\n",
    "    #find earliest and latest dates\n",
    "    #decide if i should only use recent projects\n",
    "    #for each column, check missing or 0 values, and decide how to handle\n",
    "#feature engineering:\n",
    "    #num of previous projects by school\n",
    "    #% success for school\n",
    "    #num of previous projects by teacher\n",
    "    #% success for teacher\n",
    "    #month/quarter of project\n",
    "    #Amount of optional support (is this consistent by amount or %)\n",
    "    #Optional support yes or no\n",
    "    #Time from posted to expiration (is this set?)\n",
    "#Check distros and decide if valuable:\n",
    "    #students reached = how many 0's, than how many nans?\n",
    "    #school types"
   ]
  },
  {
   "cell_type": "code",
   "execution_count": null,
   "metadata": {
    "collapsed": false
   },
   "outputs": [],
   "source": []
  },
  {
   "cell_type": "code",
   "execution_count": null,
   "metadata": {
    "collapsed": false
   },
   "outputs": [],
   "source": []
  },
  {
   "cell_type": "code",
   "execution_count": null,
   "metadata": {
    "collapsed": false
   },
   "outputs": [],
   "source": []
  },
  {
   "cell_type": "code",
   "execution_count": null,
   "metadata": {
    "collapsed": false
   },
   "outputs": [],
   "source": []
  },
  {
   "cell_type": "code",
   "execution_count": 24,
   "metadata": {
    "collapsed": false
   },
   "outputs": [
    {
     "data": {
      "text/plain": [
       "dtype('O')"
      ]
     },
     "execution_count": 24,
     "metadata": {},
     "output_type": "execute_result"
    }
   ],
   "source": [
    "#df['date_posted'] = dateutil.parser.parse(df['date_posted'])\n",
    "df['date_posted'].dtype"
   ]
  },
  {
   "cell_type": "code",
   "execution_count": null,
   "metadata": {
    "collapsed": false
   },
   "outputs": [],
   "source": []
  },
  {
   "cell_type": "code",
   "execution_count": null,
   "metadata": {
    "collapsed": false
   },
   "outputs": [],
   "source": []
  },
  {
   "cell_type": "code",
   "execution_count": null,
   "metadata": {
    "collapsed": false
   },
   "outputs": [],
   "source": []
  },
  {
   "cell_type": "code",
   "execution_count": 11,
   "metadata": {
    "collapsed": false
   },
   "outputs": [],
   "source": []
  },
  {
   "cell_type": "code",
   "execution_count": null,
   "metadata": {
    "collapsed": false
   },
   "outputs": [],
   "source": []
  },
  {
   "cell_type": "code",
   "execution_count": null,
   "metadata": {
    "collapsed": false
   },
   "outputs": [],
   "source": []
  },
  {
   "cell_type": "code",
   "execution_count": 14,
   "metadata": {
    "collapsed": true
   },
   "outputs": [],
   "source": []
  },
  {
   "cell_type": "code",
   "execution_count": 42,
   "metadata": {
    "collapsed": true
   },
   "outputs": [],
   "source": [
    "y, X = dmatrices('RESP ~ primary_focus_subject + total_price_including_optional_support + resource_type + poverty_level + grade_level', data=df, return_type='dataframe')\n",
    "\n",
    "y = np.ravel(y)\n",
    "\n",
    "x_train, x_test, y_train, y_test = train_test_split(\n",
    "    X, y, test_size=0.25, random_state=7)\n",
    "\n",
    "std_scale = preprocessing.StandardScaler().fit(x_train)\n",
    "x_train = std_scale.transform(x_train)\n",
    "x_test = std_scale.transform(x_test)"
   ]
  },
  {
   "cell_type": "code",
   "execution_count": 54,
   "metadata": {
    "collapsed": false
   },
   "outputs": [
    {
     "name": "stdout",
     "output_type": "stream",
     "text": [
      "Baseline = 0.67\n"
     ]
    }
   ],
   "source": [
    "def always_complete(x):\n",
    "    return [1] * len(x)\n",
    "y_pred = always_complete(X)\n",
    "\n",
    "print \"Baseline = %0.2f\" % accuracy_score(y, y_pred) "
   ]
  },
  {
   "cell_type": "code",
   "execution_count": null,
   "metadata": {
    "collapsed": false
   },
   "outputs": [
    {
     "name": "stdout",
     "output_type": "stream",
     "text": [
      "Gaussian Naive Bayes test accuracy score: "
     ]
    }
   ],
   "source": [
    "def test_model(name, main_model):\n",
    "    model = main_model\n",
    "    model.fit(x_train, y_train)\n",
    "    y_pred = model.predict(x_test)\n",
    "    print name, \"test accuracy score:\", accuracy_score(y_test, model.predict(x_test))\n",
    "    \n",
    "#test_model(\"KNN\", KNeighborsClassifier())\n",
    "#test_model(\"Logistic Regression\", LogisticRegression())\n",
    "#test_model(\"Gaussian Naive Bayes\", GaussianNB())\n",
    "#test_model(\"SVM Classifier\", SVC())\n",
    "#test_model(\"Decision Tree\", DecisionTreeClassifier())\n",
    "#test_model(\"Random Forest\", RandomForestClassifier())"
   ]
  }
 ],
 "metadata": {
  "kernelspec": {
   "display_name": "Python 2",
   "language": "python",
   "name": "python2"
  },
  "language_info": {
   "codemirror_mode": {
    "name": "ipython",
    "version": 2
   },
   "file_extension": ".py",
   "mimetype": "text/x-python",
   "name": "python",
   "nbconvert_exporter": "python",
   "pygments_lexer": "ipython2",
   "version": "2.7.10"
  }
 },
 "nbformat": 4,
 "nbformat_minor": 0
}
